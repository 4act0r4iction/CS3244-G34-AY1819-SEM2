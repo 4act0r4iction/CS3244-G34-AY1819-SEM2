{
 "cells": [
  {
   "cell_type": "code",
   "execution_count": 1,
   "metadata": {},
   "outputs": [
    {
     "name": "stderr",
     "output_type": "stream",
     "text": [
      "paramiko missing, opening SSH/SCP/SFTP paths will be disabled.  `pip install paramiko` to suppress\n"
     ]
    }
   ],
   "source": [
    "import spacy\n",
    "import re\n",
    "import numpy as np\n",
    "import pandas as pd\n",
    "import pickle\n",
    "import gensim\n",
    "from gensim.models.word2vec import Word2Vec\n",
    "import nltk\n",
    "import time\n",
    "\n",
    "#sklearn imports\n",
    "import warnings\n",
    "from sklearn.exceptions import DataConversionWarning\n",
    "warnings.filterwarnings(action='ignore', category=DataConversionWarning)\n",
    "\n",
    "from sklearn.preprocessing import StandardScaler\n",
    "from sklearn.model_selection import train_test_split\n",
    "from sklearn.feature_extraction.text import TfidfVectorizer, CountVectorizer\n",
    "from sklearn.linear_model import LogisticRegression\n",
    "from sklearn.svm import SVC\n",
    "from sklearn.naive_bayes import MultinomialNB, GaussianNB\n",
    "from sklearn.metrics import log_loss, recall_score, precision_score, f1_score, classification_report\n",
    "from sklearn.pipeline import Pipeline\n",
    "from sklearn.model_selection import GridSearchCV, RandomizedSearchCV\n",
    "from sklearn.ensemble import RandomForestClassifier, ExtraTreesClassifier\n",
    "from sklearn.neighbors import KNeighborsClassifier\n",
    "from sklearn.externals import joblib\n",
    "\n",
    "import xgboost as xgb\n",
    "\n",
    "nlp = spacy.load('en')"
   ]
  },
  {
   "cell_type": "code",
   "execution_count": 2,
   "metadata": {},
   "outputs": [],
   "source": [
    "df = pd.read_csv('features_and_label.csv')"
   ]
  },
  {
   "cell_type": "code",
   "execution_count": 23,
   "metadata": {},
   "outputs": [],
   "source": [
    "X, y = df.drop(\"is_fake\", axis = 1), df.is_fake\n",
    "\n",
    "X_train, X_val, y_train, y_val = train_test_split(X, y, \n",
    "                                                  stratify=y, \n",
    "                                                  random_state=42, \n",
    "                                                  test_size=0.2)"
   ]
  },
  {
   "cell_type": "code",
   "execution_count": 16,
   "metadata": {},
   "outputs": [
    {
     "name": "stdout",
     "output_type": "stream",
     "text": [
      "Index(['total_sentences', 'num_sentences_with_adj_in_phrase',\n",
      "       'num_sentences_with_adv_in_phrase', 'total_word_count',\n",
      "       'avg_word_length', 'lexical_diversity', 'repetition_top',\n",
      "       'repetition_all', 'NNP_percent', 'NNPS_percent', 'noun_percent',\n",
      "       'verb_percent', 'part_percent', 'det_percent',\n",
      "       'unknown_or_foreign_percent', 'tfidf_prob_nb', 'tfidf_prob_logreg',\n",
      "       'w2v_prob_nb', 'w2v_prob_logreg', 'w2v_prob_svc', 'w2v_prob_rforest',\n",
      "       'is_fake'],\n",
      "      dtype='object')\n"
     ]
    }
   ],
   "source": [
    "print(df.columns)"
   ]
  },
  {
   "cell_type": "code",
   "execution_count": 25,
   "metadata": {},
   "outputs": [],
   "source": [
    "pipeline = Pipeline([('std_scaler', StandardScaler()),\n",
    "                     ('xgb', xgb.XGBClassifier())\n",
    "                    ])"
   ]
  },
  {
   "cell_type": "code",
   "execution_count": 26,
   "metadata": {},
   "outputs": [],
   "source": [
    "param = {\n",
    "    'xgb__learning_rate':[0.01,0.015,0.025,0.05,0.1],\n",
    "    'xgb__gamma':[0.05,0.1,0.3,0.5,0.7,0.9,1.0],\n",
    "    'xgb__max_depth':[3,5,7,9,12,15,17,25],\n",
    "    'xgb__min_child_weight':[1,3,5,7],\n",
    "    'xgb__subsample':[0.6,0.7,0.8,0.9,1.0],\n",
    "    'xgb__reg_lambda':[0.01,0.05,0.1,1.0],\n",
    "    'xgb__reg_alpha':[0,0.1,0.5,1.0]\n",
    "}"
   ]
  },
  {
   "cell_type": "markdown",
   "metadata": {},
   "source": [
    "We train the model with only the manual features."
   ]
  },
  {
   "cell_type": "code",
   "execution_count": 27,
   "metadata": {
    "scrolled": true
   },
   "outputs": [
    {
     "name": "stdout",
     "output_type": "stream",
     "text": [
      "Fitting 3 folds for each of 10 candidates, totalling 30 fits\n"
     ]
    },
    {
     "name": "stderr",
     "output_type": "stream",
     "text": [
      "[Parallel(n_jobs=10)]: Using backend LokyBackend with 10 concurrent workers.\n",
      "[Parallel(n_jobs=10)]: Done  30 out of  30 | elapsed:   13.1s finished\n"
     ]
    },
    {
     "data": {
      "text/plain": [
       "15.557334184646606"
      ]
     },
     "execution_count": 27,
     "metadata": {},
     "output_type": "execute_result"
    }
   ],
   "source": [
    "start = time.time()\n",
    "xgb_model = RandomizedSearchCV(pipeline, param, cv=3,verbose=1, n_iter = 10, n_jobs = 10)\n",
    "#fit model\n",
    "xgb_model.fit(X_train,y_train)\n",
    "time.time() - start"
   ]
  },
  {
   "cell_type": "code",
   "execution_count": 28,
   "metadata": {
    "scrolled": true
   },
   "outputs": [
    {
     "name": "stdout",
     "output_type": "stream",
     "text": [
      "Train accuracy for xgb: 0.9988041138483617\n",
      "Val accuracy for xgb: 0.9933035714285714\n",
      "Val precision for xgb: 0.9935865811544153\n",
      "Val recall for xgb: 0.9960435212660732\n",
      "f1_score for xgb: 0.9948135342059767\n"
     ]
    }
   ],
   "source": [
    "y_val_pred_xgb = xgb_model.predict(X_val)\n",
    "\n",
    "print(\"Train accuracy for xgb: \" + str(xgb_model.score(X_train, y_train)))\n",
    "print(\"Val accuracy for xgb: \" + str(xgb_model.score(X_val, y_val)))\n",
    "print(\"Val precision for xgb: \" + str(precision_score(y_val, y_val_pred_xgb)))\n",
    "print(\"Val recall for xgb: \" + str(recall_score(y_val, y_val_pred_xgb)))\n",
    "print(\"f1_score for xgb: \" + str(f1_score(y_val, y_val_pred_xgb))) "
   ]
  },
  {
   "cell_type": "code",
   "execution_count": 29,
   "metadata": {},
   "outputs": [
    {
     "name": "stdout",
     "output_type": "stream",
     "text": [
      "              precision    recall  f1-score   support\n",
      "\n",
      "           0       0.99      0.99      0.99      1114\n",
      "           1       0.99      1.00      0.99      2022\n",
      "\n",
      "   micro avg       0.99      0.99      0.99      3136\n",
      "   macro avg       0.99      0.99      0.99      3136\n",
      "weighted avg       0.99      0.99      0.99      3136\n",
      "\n"
     ]
    }
   ],
   "source": [
    "print(classification_report(y_val, y_val_pred_xgb))"
   ]
  },
  {
   "cell_type": "code",
   "execution_count": null,
   "metadata": {},
   "outputs": [],
   "source": []
  }
 ],
 "metadata": {
  "kernelspec": {
   "display_name": "Python 3",
   "language": "python",
   "name": "python3"
  },
  "language_info": {
   "codemirror_mode": {
    "name": "ipython",
    "version": 3
   },
   "file_extension": ".py",
   "mimetype": "text/x-python",
   "name": "python",
   "nbconvert_exporter": "python",
   "pygments_lexer": "ipython3",
   "version": "3.7.1"
  }
 },
 "nbformat": 4,
 "nbformat_minor": 2
}
