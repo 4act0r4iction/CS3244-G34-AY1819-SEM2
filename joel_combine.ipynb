{
 "cells": [
  {
   "cell_type": "code",
   "execution_count": 1,
   "metadata": {},
   "outputs": [
    {
     "name": "stderr",
     "output_type": "stream",
     "text": [
      "paramiko missing, opening SSH/SCP/SFTP paths will be disabled.  `pip install paramiko` to suppress\n"
     ]
    }
   ],
   "source": [
    "import spacy\n",
    "import re\n",
    "import numpy as np\n",
    "import pandas as pd\n",
    "import pickle\n",
    "import gensim\n",
    "from gensim.models.word2vec import Word2Vec\n",
    "import nltk\n",
    "\n",
    "\n",
    "#sklearn imports\n",
    "from sklearn.model_selection import train_test_split\n",
    "from sklearn.feature_extraction.text import TfidfVectorizer, CountVectorizer\n",
    "from sklearn.linear_model import LogisticRegression\n",
    "from sklearn.svm import SVC\n",
    "from sklearn.naive_bayes import MultinomialNB, GaussianNB\n",
    "from sklearn.metrics import log_loss, recall_score, precision_score\n",
    "from sklearn.pipeline import Pipeline\n",
    "from sklearn.model_selection import GridSearchCV\n",
    "from sklearn.ensemble import RandomForestClassifier, ExtraTreesClassifier\n",
    "from sklearn.neighbors import KNeighborsClassifier\n",
    "\n",
    "\n",
    "import xgboost as xgb\n",
    "\n",
    "nlp = spacy.load('en')"
   ]
  },
  {
   "cell_type": "markdown",
   "metadata": {},
   "source": [
    "combined pcfg"
   ]
  },
  {
   "cell_type": "code",
   "execution_count": 18,
   "metadata": {},
   "outputs": [],
   "source": [
    "df_jo = pd.read_csv(\"data/features/data_joel.csv\", sep = \",\")\n",
    "df_jy = pd.read_csv(\"data/features/data_jingyang.csv\", sep = \",\")\n",
    "df_wj = pd.read_csv(\"data/features/data_weijie.csv\", sep = \",\")\n",
    "df_gh1 = pd.read_csv(\"data/features/data_3500to4000.csv\", sep = \",\")\n",
    "df_gh2 = pd.read_csv(\"data/features/data_4000to5000.csv\", sep = \",\")\n",
    "df_gh3 = pd.read_csv(\"data/features/data_5000to6000.csv\", sep = \",\")\n",
    "df_gh4 = pd.read_csv(\"data/features/data_6000to7000.csv\", sep = \",\")"
   ]
  },
  {
   "cell_type": "code",
   "execution_count": 9,
   "metadata": {},
   "outputs": [],
   "source": [
    "df_ori = pd.read_csv(\"dataset.csv\", sep = \",\")"
   ]
  },
  {
   "cell_type": "code",
   "execution_count": 19,
   "metadata": {},
   "outputs": [],
   "source": [
    "new_df = pd.concat([df_jy, df_gh1, df_gh2, df_gh3, df_gh4, df_jo, df_wj])"
   ]
  },
  {
   "cell_type": "code",
   "execution_count": 39,
   "metadata": {},
   "outputs": [],
   "source": [
    "new_df.iloc[:,3:].to_csv(\"pcfg_output.csv\", index = False)"
   ]
  },
  {
   "cell_type": "markdown",
   "metadata": {},
   "source": [
    "combined postag"
   ]
  },
  {
   "cell_type": "code",
   "execution_count": 3,
   "metadata": {},
   "outputs": [],
   "source": [
    "df_pt1 = pd.read_csv(\"postag_output_0_5000.csv\", sep = \",\")\n",
    "df_pt2 = pd.read_csv(\"postag_output_5000_10000.csv\", sep = \",\")\n",
    "df_pt3 = pd.read_csv(\"postag_output_10000_end.csv\", sep = \",\")"
   ]
  },
  {
   "cell_type": "code",
   "execution_count": 4,
   "metadata": {},
   "outputs": [],
   "source": [
    "new_df_pt = pd.concat([df_pt1, df_pt2, df_pt3])"
   ]
  },
  {
   "cell_type": "code",
   "execution_count": 6,
   "metadata": {},
   "outputs": [
    {
     "data": {
      "text/plain": [
       "(15679, 12)"
      ]
     },
     "execution_count": 6,
     "metadata": {},
     "output_type": "execute_result"
    }
   ],
   "source": [
    "new_df_pt.shape"
   ]
  },
  {
   "cell_type": "code",
   "execution_count": 7,
   "metadata": {},
   "outputs": [
    {
     "data": {
      "text/html": [
       "<div>\n",
       "<style scoped>\n",
       "    .dataframe tbody tr th:only-of-type {\n",
       "        vertical-align: middle;\n",
       "    }\n",
       "\n",
       "    .dataframe tbody tr th {\n",
       "        vertical-align: top;\n",
       "    }\n",
       "\n",
       "    .dataframe thead th {\n",
       "        text-align: right;\n",
       "    }\n",
       "</style>\n",
       "<table border=\"1\" class=\"dataframe\">\n",
       "  <thead>\n",
       "    <tr style=\"text-align: right;\">\n",
       "      <th></th>\n",
       "      <th>total_word_count</th>\n",
       "      <th>avg_word_length</th>\n",
       "      <th>lexical_diversity</th>\n",
       "      <th>repetition_top</th>\n",
       "      <th>repetition_all</th>\n",
       "      <th>NNP_percent</th>\n",
       "      <th>NNPS_percent</th>\n",
       "      <th>noun_percent</th>\n",
       "      <th>verb_percent</th>\n",
       "      <th>part_percent</th>\n",
       "      <th>det_percent</th>\n",
       "      <th>unknown_or_foreign_percent</th>\n",
       "    </tr>\n",
       "  </thead>\n",
       "  <tbody>\n",
       "    <tr>\n",
       "      <th>0</th>\n",
       "      <td>1549</td>\n",
       "      <td>4.571336</td>\n",
       "      <td>0.371853</td>\n",
       "      <td>0.339574</td>\n",
       "      <td>0.130808</td>\n",
       "      <td>0.111924</td>\n",
       "      <td>0.007312</td>\n",
       "      <td>0.137795</td>\n",
       "      <td>0.172103</td>\n",
       "      <td>0.028121</td>\n",
       "      <td>0.113611</td>\n",
       "      <td>0.0</td>\n",
       "    </tr>\n",
       "    <tr>\n",
       "      <th>1</th>\n",
       "      <td>488</td>\n",
       "      <td>4.534836</td>\n",
       "      <td>0.561475</td>\n",
       "      <td>0.315574</td>\n",
       "      <td>0.108682</td>\n",
       "      <td>0.099822</td>\n",
       "      <td>0.003565</td>\n",
       "      <td>0.146168</td>\n",
       "      <td>0.171123</td>\n",
       "      <td>0.030303</td>\n",
       "      <td>0.117647</td>\n",
       "      <td>0.0</td>\n",
       "    </tr>\n",
       "    <tr>\n",
       "      <th>2</th>\n",
       "      <td>443</td>\n",
       "      <td>4.458239</td>\n",
       "      <td>0.577878</td>\n",
       "      <td>0.347630</td>\n",
       "      <td>0.107576</td>\n",
       "      <td>0.099174</td>\n",
       "      <td>0.004132</td>\n",
       "      <td>0.130165</td>\n",
       "      <td>0.171488</td>\n",
       "      <td>0.008264</td>\n",
       "      <td>0.128099</td>\n",
       "      <td>0.0</td>\n",
       "    </tr>\n",
       "    <tr>\n",
       "      <th>3</th>\n",
       "      <td>61</td>\n",
       "      <td>4.344262</td>\n",
       "      <td>0.836066</td>\n",
       "      <td>0.491803</td>\n",
       "      <td>0.136849</td>\n",
       "      <td>0.169231</td>\n",
       "      <td>0.015385</td>\n",
       "      <td>0.138462</td>\n",
       "      <td>0.184615</td>\n",
       "      <td>0.030769</td>\n",
       "      <td>0.138462</td>\n",
       "      <td>0.0</td>\n",
       "    </tr>\n",
       "    <tr>\n",
       "      <th>4</th>\n",
       "      <td>505</td>\n",
       "      <td>4.879208</td>\n",
       "      <td>0.534653</td>\n",
       "      <td>0.328713</td>\n",
       "      <td>0.109228</td>\n",
       "      <td>0.053819</td>\n",
       "      <td>0.003472</td>\n",
       "      <td>0.262153</td>\n",
       "      <td>0.171875</td>\n",
       "      <td>0.008681</td>\n",
       "      <td>0.064236</td>\n",
       "      <td>0.0</td>\n",
       "    </tr>\n",
       "  </tbody>\n",
       "</table>\n",
       "</div>"
      ],
      "text/plain": [
       "   total_word_count  avg_word_length  lexical_diversity  repetition_top  \\\n",
       "0              1549         4.571336           0.371853        0.339574   \n",
       "1               488         4.534836           0.561475        0.315574   \n",
       "2               443         4.458239           0.577878        0.347630   \n",
       "3                61         4.344262           0.836066        0.491803   \n",
       "4               505         4.879208           0.534653        0.328713   \n",
       "\n",
       "   repetition_all  NNP_percent  NNPS_percent  noun_percent  verb_percent  \\\n",
       "0        0.130808     0.111924      0.007312      0.137795      0.172103   \n",
       "1        0.108682     0.099822      0.003565      0.146168      0.171123   \n",
       "2        0.107576     0.099174      0.004132      0.130165      0.171488   \n",
       "3        0.136849     0.169231      0.015385      0.138462      0.184615   \n",
       "4        0.109228     0.053819      0.003472      0.262153      0.171875   \n",
       "\n",
       "   part_percent  det_percent  unknown_or_foreign_percent  \n",
       "0      0.028121     0.113611                         0.0  \n",
       "1      0.030303     0.117647                         0.0  \n",
       "2      0.008264     0.128099                         0.0  \n",
       "3      0.030769     0.138462                         0.0  \n",
       "4      0.008681     0.064236                         0.0  "
      ]
     },
     "execution_count": 7,
     "metadata": {},
     "output_type": "execute_result"
    }
   ],
   "source": [
    "new_df_pt.head()"
   ]
  },
  {
   "cell_type": "code",
   "execution_count": 8,
   "metadata": {},
   "outputs": [],
   "source": [
    "new_df_pt.to_csv(\"postag_output.csv\", index = False)"
   ]
  },
  {
   "cell_type": "markdown",
   "metadata": {},
   "source": [
    "combine all"
   ]
  },
  {
   "cell_type": "code",
   "execution_count": 11,
   "metadata": {},
   "outputs": [],
   "source": [
    "df_ori = pd.read_csv(\"dataset.csv\", sep = \",\")"
   ]
  },
  {
   "cell_type": "code",
   "execution_count": 13,
   "metadata": {},
   "outputs": [],
   "source": [
    "x = df_ori.text\n",
    "y = df_ori.label"
   ]
  },
  {
   "cell_type": "code",
   "execution_count": 24,
   "metadata": {},
   "outputs": [],
   "source": [
    "df_pcfg = pd.read_csv(\"data/features/pcfg_output.csv\", sep = \",\")\n",
    "df_postag = pd.read_csv(\"data/features/postag_output.csv\", sep = \",\")\n",
    "df_tfidf = pd.read_csv(\"data/features/tfidf_output.csv\", sep = \",\")\n",
    "df_w2v = pd.read_csv(\"data/features/w2v_output.csv\", sep = \",\")"
   ]
  },
  {
   "cell_type": "code",
   "execution_count": 25,
   "metadata": {},
   "outputs": [
    {
     "data": {
      "text/html": [
       "<div>\n",
       "<style scoped>\n",
       "    .dataframe tbody tr th:only-of-type {\n",
       "        vertical-align: middle;\n",
       "    }\n",
       "\n",
       "    .dataframe tbody tr th {\n",
       "        vertical-align: top;\n",
       "    }\n",
       "\n",
       "    .dataframe thead th {\n",
       "        text-align: right;\n",
       "    }\n",
       "</style>\n",
       "<table border=\"1\" class=\"dataframe\">\n",
       "  <thead>\n",
       "    <tr style=\"text-align: right;\">\n",
       "      <th></th>\n",
       "      <th>total_sentences</th>\n",
       "      <th>num_sentences_with_adj_in_phrase</th>\n",
       "      <th>num_sentences_with_adv_in_phrase</th>\n",
       "    </tr>\n",
       "  </thead>\n",
       "  <tbody>\n",
       "    <tr>\n",
       "      <th>0</th>\n",
       "      <td>76</td>\n",
       "      <td>33</td>\n",
       "      <td>19</td>\n",
       "    </tr>\n",
       "  </tbody>\n",
       "</table>\n",
       "</div>"
      ],
      "text/plain": [
       "   total_sentences  num_sentences_with_adj_in_phrase  \\\n",
       "0               76                                33   \n",
       "\n",
       "   num_sentences_with_adv_in_phrase  \n",
       "0                                19  "
      ]
     },
     "execution_count": 25,
     "metadata": {},
     "output_type": "execute_result"
    }
   ],
   "source": [
    "df_pcfg.head(1)"
   ]
  },
  {
   "cell_type": "code",
   "execution_count": 26,
   "metadata": {},
   "outputs": [
    {
     "data": {
      "text/html": [
       "<div>\n",
       "<style scoped>\n",
       "    .dataframe tbody tr th:only-of-type {\n",
       "        vertical-align: middle;\n",
       "    }\n",
       "\n",
       "    .dataframe tbody tr th {\n",
       "        vertical-align: top;\n",
       "    }\n",
       "\n",
       "    .dataframe thead th {\n",
       "        text-align: right;\n",
       "    }\n",
       "</style>\n",
       "<table border=\"1\" class=\"dataframe\">\n",
       "  <thead>\n",
       "    <tr style=\"text-align: right;\">\n",
       "      <th></th>\n",
       "      <th>total_word_count</th>\n",
       "      <th>avg_word_length</th>\n",
       "      <th>lexical_diversity</th>\n",
       "      <th>repetition_top</th>\n",
       "      <th>repetition_all</th>\n",
       "      <th>NNP_percent</th>\n",
       "      <th>NNPS_percent</th>\n",
       "      <th>noun_percent</th>\n",
       "      <th>verb_percent</th>\n",
       "      <th>part_percent</th>\n",
       "      <th>det_percent</th>\n",
       "      <th>unknown_or_foreign_percent</th>\n",
       "    </tr>\n",
       "  </thead>\n",
       "  <tbody>\n",
       "    <tr>\n",
       "      <th>0</th>\n",
       "      <td>1549</td>\n",
       "      <td>4.571336</td>\n",
       "      <td>0.371853</td>\n",
       "      <td>0.339574</td>\n",
       "      <td>0.130808</td>\n",
       "      <td>0.111924</td>\n",
       "      <td>0.007312</td>\n",
       "      <td>0.137795</td>\n",
       "      <td>0.172103</td>\n",
       "      <td>0.028121</td>\n",
       "      <td>0.113611</td>\n",
       "      <td>0.0</td>\n",
       "    </tr>\n",
       "  </tbody>\n",
       "</table>\n",
       "</div>"
      ],
      "text/plain": [
       "   total_word_count  avg_word_length  lexical_diversity  repetition_top  \\\n",
       "0              1549         4.571336           0.371853        0.339574   \n",
       "\n",
       "   repetition_all  NNP_percent  NNPS_percent  noun_percent  verb_percent  \\\n",
       "0        0.130808     0.111924      0.007312      0.137795      0.172103   \n",
       "\n",
       "   part_percent  det_percent  unknown_or_foreign_percent  \n",
       "0      0.028121     0.113611                         0.0  "
      ]
     },
     "execution_count": 26,
     "metadata": {},
     "output_type": "execute_result"
    }
   ],
   "source": [
    "df_postag.head(1)"
   ]
  },
  {
   "cell_type": "code",
   "execution_count": 27,
   "metadata": {},
   "outputs": [
    {
     "data": {
      "text/html": [
       "<div>\n",
       "<style scoped>\n",
       "    .dataframe tbody tr th:only-of-type {\n",
       "        vertical-align: middle;\n",
       "    }\n",
       "\n",
       "    .dataframe tbody tr th {\n",
       "        vertical-align: top;\n",
       "    }\n",
       "\n",
       "    .dataframe thead th {\n",
       "        text-align: right;\n",
       "    }\n",
       "</style>\n",
       "<table border=\"1\" class=\"dataframe\">\n",
       "  <thead>\n",
       "    <tr style=\"text-align: right;\">\n",
       "      <th></th>\n",
       "      <th>prob_nb</th>\n",
       "      <th>prob_logreg</th>\n",
       "    </tr>\n",
       "  </thead>\n",
       "  <tbody>\n",
       "    <tr>\n",
       "      <th>0</th>\n",
       "      <td>0.003172</td>\n",
       "      <td>0.2068</td>\n",
       "    </tr>\n",
       "  </tbody>\n",
       "</table>\n",
       "</div>"
      ],
      "text/plain": [
       "    prob_nb  prob_logreg\n",
       "0  0.003172       0.2068"
      ]
     },
     "execution_count": 27,
     "metadata": {},
     "output_type": "execute_result"
    }
   ],
   "source": [
    "df_tfidf.head(1)"
   ]
  },
  {
   "cell_type": "code",
   "execution_count": 28,
   "metadata": {},
   "outputs": [
    {
     "data": {
      "text/html": [
       "<div>\n",
       "<style scoped>\n",
       "    .dataframe tbody tr th:only-of-type {\n",
       "        vertical-align: middle;\n",
       "    }\n",
       "\n",
       "    .dataframe tbody tr th {\n",
       "        vertical-align: top;\n",
       "    }\n",
       "\n",
       "    .dataframe thead th {\n",
       "        text-align: right;\n",
       "    }\n",
       "</style>\n",
       "<table border=\"1\" class=\"dataframe\">\n",
       "  <thead>\n",
       "    <tr style=\"text-align: right;\">\n",
       "      <th></th>\n",
       "      <th>prob_nb</th>\n",
       "      <th>prob_logreg</th>\n",
       "      <th>prob_svc</th>\n",
       "      <th>prob_rforest</th>\n",
       "    </tr>\n",
       "  </thead>\n",
       "  <tbody>\n",
       "    <tr>\n",
       "      <th>0</th>\n",
       "      <td>0.000657</td>\n",
       "      <td>0.441064</td>\n",
       "      <td>0.348825</td>\n",
       "      <td>0.5</td>\n",
       "    </tr>\n",
       "  </tbody>\n",
       "</table>\n",
       "</div>"
      ],
      "text/plain": [
       "    prob_nb  prob_logreg  prob_svc  prob_rforest\n",
       "0  0.000657     0.441064  0.348825           0.5"
      ]
     },
     "execution_count": 28,
     "metadata": {},
     "output_type": "execute_result"
    }
   ],
   "source": [
    "df_w2v.head(1)"
   ]
  },
  {
   "cell_type": "code",
   "execution_count": 38,
   "metadata": {},
   "outputs": [],
   "source": [
    "final_comb_df = pd.concat([df_pcfg, df_postag, df_tfidf, df_w2v,y], axis = 1)"
   ]
  },
  {
   "cell_type": "code",
   "execution_count": 46,
   "metadata": {},
   "outputs": [],
   "source": [
    "final_comb_df.columns = ['total_sentences', 'num_sentences_with_adj_in_phrase',\n",
    "       'num_sentences_with_adv_in_phrase', 'total_word_count',\n",
    "       'avg_word_length', 'lexical_diversity', 'repetition_top',\n",
    "       'repetition_all', 'NNP_percent', 'NNPS_percent', 'noun_percent',\n",
    "       'verb_percent', 'part_percent', 'det_percent',\n",
    "       'unknown_or_foreign_percent', 'tfidf_prob_nb', 'tfidf_prob_logreg', 'w2v_prob_nb',\n",
    "       'w2v_prob_logreg', 'w2v_prob_svc', 'w2v_prob_rforest', 'is_fake']"
   ]
  },
  {
   "cell_type": "code",
   "execution_count": 48,
   "metadata": {},
   "outputs": [
    {
     "name": "stdout",
     "output_type": "stream",
     "text": [
      "<class 'pandas.core.frame.DataFrame'>\n",
      "RangeIndex: 15679 entries, 0 to 15678\n",
      "Data columns (total 22 columns):\n",
      "total_sentences                     15679 non-null int64\n",
      "num_sentences_with_adj_in_phrase    15679 non-null int64\n",
      "num_sentences_with_adv_in_phrase    15679 non-null int64\n",
      "total_word_count                    15679 non-null int64\n",
      "avg_word_length                     15679 non-null float64\n",
      "lexical_diversity                   15679 non-null float64\n",
      "repetition_top                      15679 non-null float64\n",
      "repetition_all                      15679 non-null float64\n",
      "NNP_percent                         15679 non-null float64\n",
      "NNPS_percent                        15679 non-null float64\n",
      "noun_percent                        15679 non-null float64\n",
      "verb_percent                        15679 non-null float64\n",
      "part_percent                        15679 non-null float64\n",
      "det_percent                         15679 non-null float64\n",
      "unknown_or_foreign_percent          15679 non-null float64\n",
      "tfidf_prob_nb                       15679 non-null float64\n",
      "tfidf_prob_logreg                   15679 non-null float64\n",
      "w2v_prob_nb                         15679 non-null float64\n",
      "w2v_prob_logreg                     15679 non-null float64\n",
      "w2v_prob_svc                        15679 non-null float64\n",
      "w2v_prob_rforest                    15679 non-null float64\n",
      "is_fake                             15679 non-null int64\n",
      "dtypes: float64(17), int64(5)\n",
      "memory usage: 2.6 MB\n"
     ]
    }
   ],
   "source": [
    "final_comb_df.info()"
   ]
  },
  {
   "cell_type": "code",
   "execution_count": 51,
   "metadata": {},
   "outputs": [
    {
     "data": {
      "text/html": [
       "<div>\n",
       "<style scoped>\n",
       "    .dataframe tbody tr th:only-of-type {\n",
       "        vertical-align: middle;\n",
       "    }\n",
       "\n",
       "    .dataframe tbody tr th {\n",
       "        vertical-align: top;\n",
       "    }\n",
       "\n",
       "    .dataframe thead th {\n",
       "        text-align: right;\n",
       "    }\n",
       "</style>\n",
       "<table border=\"1\" class=\"dataframe\">\n",
       "  <thead>\n",
       "    <tr style=\"text-align: right;\">\n",
       "      <th></th>\n",
       "      <th>total_sentences</th>\n",
       "      <th>num_sentences_with_adj_in_phrase</th>\n",
       "      <th>num_sentences_with_adv_in_phrase</th>\n",
       "      <th>total_word_count</th>\n",
       "      <th>avg_word_length</th>\n",
       "      <th>lexical_diversity</th>\n",
       "      <th>repetition_top</th>\n",
       "      <th>repetition_all</th>\n",
       "      <th>NNP_percent</th>\n",
       "      <th>NNPS_percent</th>\n",
       "      <th>...</th>\n",
       "      <th>part_percent</th>\n",
       "      <th>det_percent</th>\n",
       "      <th>unknown_or_foreign_percent</th>\n",
       "      <th>tfidf_prob_nb</th>\n",
       "      <th>tfidf_prob_logreg</th>\n",
       "      <th>w2v_prob_nb</th>\n",
       "      <th>w2v_prob_logreg</th>\n",
       "      <th>w2v_prob_svc</th>\n",
       "      <th>w2v_prob_rforest</th>\n",
       "      <th>is_fake</th>\n",
       "    </tr>\n",
       "  </thead>\n",
       "  <tbody>\n",
       "    <tr>\n",
       "      <th>0</th>\n",
       "      <td>76</td>\n",
       "      <td>33</td>\n",
       "      <td>19</td>\n",
       "      <td>1549</td>\n",
       "      <td>4.571336</td>\n",
       "      <td>0.371853</td>\n",
       "      <td>0.339574</td>\n",
       "      <td>0.130808</td>\n",
       "      <td>0.111924</td>\n",
       "      <td>0.007312</td>\n",
       "      <td>...</td>\n",
       "      <td>0.028121</td>\n",
       "      <td>0.113611</td>\n",
       "      <td>0.0</td>\n",
       "      <td>3.171641e-03</td>\n",
       "      <td>0.206800</td>\n",
       "      <td>6.571201e-04</td>\n",
       "      <td>0.441064</td>\n",
       "      <td>0.348825</td>\n",
       "      <td>0.5</td>\n",
       "      <td>0</td>\n",
       "    </tr>\n",
       "    <tr>\n",
       "      <th>1</th>\n",
       "      <td>27</td>\n",
       "      <td>12</td>\n",
       "      <td>8</td>\n",
       "      <td>488</td>\n",
       "      <td>4.534836</td>\n",
       "      <td>0.561475</td>\n",
       "      <td>0.315574</td>\n",
       "      <td>0.108682</td>\n",
       "      <td>0.099822</td>\n",
       "      <td>0.003565</td>\n",
       "      <td>...</td>\n",
       "      <td>0.030303</td>\n",
       "      <td>0.117647</td>\n",
       "      <td>0.0</td>\n",
       "      <td>9.980483e-01</td>\n",
       "      <td>0.637621</td>\n",
       "      <td>9.999960e-01</td>\n",
       "      <td>0.822067</td>\n",
       "      <td>0.877119</td>\n",
       "      <td>0.6</td>\n",
       "      <td>1</td>\n",
       "    </tr>\n",
       "    <tr>\n",
       "      <th>2</th>\n",
       "      <td>20</td>\n",
       "      <td>13</td>\n",
       "      <td>3</td>\n",
       "      <td>443</td>\n",
       "      <td>4.458239</td>\n",
       "      <td>0.577878</td>\n",
       "      <td>0.347630</td>\n",
       "      <td>0.107576</td>\n",
       "      <td>0.099174</td>\n",
       "      <td>0.004132</td>\n",
       "      <td>...</td>\n",
       "      <td>0.008264</td>\n",
       "      <td>0.128099</td>\n",
       "      <td>0.0</td>\n",
       "      <td>9.972521e-01</td>\n",
       "      <td>0.865423</td>\n",
       "      <td>1.000000e+00</td>\n",
       "      <td>0.977274</td>\n",
       "      <td>0.996848</td>\n",
       "      <td>0.9</td>\n",
       "      <td>1</td>\n",
       "    </tr>\n",
       "    <tr>\n",
       "      <th>3</th>\n",
       "      <td>3</td>\n",
       "      <td>1</td>\n",
       "      <td>0</td>\n",
       "      <td>61</td>\n",
       "      <td>4.344262</td>\n",
       "      <td>0.836066</td>\n",
       "      <td>0.491803</td>\n",
       "      <td>0.136849</td>\n",
       "      <td>0.169231</td>\n",
       "      <td>0.015385</td>\n",
       "      <td>...</td>\n",
       "      <td>0.030769</td>\n",
       "      <td>0.138462</td>\n",
       "      <td>0.0</td>\n",
       "      <td>6.997447e-10</td>\n",
       "      <td>0.042518</td>\n",
       "      <td>1.646796e-09</td>\n",
       "      <td>0.021398</td>\n",
       "      <td>0.001886</td>\n",
       "      <td>0.0</td>\n",
       "      <td>0</td>\n",
       "    </tr>\n",
       "    <tr>\n",
       "      <th>4</th>\n",
       "      <td>50</td>\n",
       "      <td>20</td>\n",
       "      <td>3</td>\n",
       "      <td>505</td>\n",
       "      <td>4.879208</td>\n",
       "      <td>0.534653</td>\n",
       "      <td>0.328713</td>\n",
       "      <td>0.109228</td>\n",
       "      <td>0.053819</td>\n",
       "      <td>0.003472</td>\n",
       "      <td>...</td>\n",
       "      <td>0.008681</td>\n",
       "      <td>0.064236</td>\n",
       "      <td>0.0</td>\n",
       "      <td>1.000000e+00</td>\n",
       "      <td>0.937735</td>\n",
       "      <td>9.999951e-01</td>\n",
       "      <td>0.826256</td>\n",
       "      <td>0.876790</td>\n",
       "      <td>1.0</td>\n",
       "      <td>1</td>\n",
       "    </tr>\n",
       "  </tbody>\n",
       "</table>\n",
       "<p>5 rows × 22 columns</p>\n",
       "</div>"
      ],
      "text/plain": [
       "   total_sentences  num_sentences_with_adj_in_phrase  \\\n",
       "0               76                                33   \n",
       "1               27                                12   \n",
       "2               20                                13   \n",
       "3                3                                 1   \n",
       "4               50                                20   \n",
       "\n",
       "   num_sentences_with_adv_in_phrase  total_word_count  avg_word_length  \\\n",
       "0                                19              1549         4.571336   \n",
       "1                                 8               488         4.534836   \n",
       "2                                 3               443         4.458239   \n",
       "3                                 0                61         4.344262   \n",
       "4                                 3               505         4.879208   \n",
       "\n",
       "   lexical_diversity  repetition_top  repetition_all  NNP_percent  \\\n",
       "0           0.371853        0.339574        0.130808     0.111924   \n",
       "1           0.561475        0.315574        0.108682     0.099822   \n",
       "2           0.577878        0.347630        0.107576     0.099174   \n",
       "3           0.836066        0.491803        0.136849     0.169231   \n",
       "4           0.534653        0.328713        0.109228     0.053819   \n",
       "\n",
       "   NNPS_percent  ...  part_percent  det_percent  unknown_or_foreign_percent  \\\n",
       "0      0.007312  ...      0.028121     0.113611                         0.0   \n",
       "1      0.003565  ...      0.030303     0.117647                         0.0   \n",
       "2      0.004132  ...      0.008264     0.128099                         0.0   \n",
       "3      0.015385  ...      0.030769     0.138462                         0.0   \n",
       "4      0.003472  ...      0.008681     0.064236                         0.0   \n",
       "\n",
       "   tfidf_prob_nb  tfidf_prob_logreg   w2v_prob_nb  w2v_prob_logreg  \\\n",
       "0   3.171641e-03           0.206800  6.571201e-04         0.441064   \n",
       "1   9.980483e-01           0.637621  9.999960e-01         0.822067   \n",
       "2   9.972521e-01           0.865423  1.000000e+00         0.977274   \n",
       "3   6.997447e-10           0.042518  1.646796e-09         0.021398   \n",
       "4   1.000000e+00           0.937735  9.999951e-01         0.826256   \n",
       "\n",
       "   w2v_prob_svc  w2v_prob_rforest  is_fake  \n",
       "0      0.348825               0.5        0  \n",
       "1      0.877119               0.6        1  \n",
       "2      0.996848               0.9        1  \n",
       "3      0.001886               0.0        0  \n",
       "4      0.876790               1.0        1  \n",
       "\n",
       "[5 rows x 22 columns]"
      ]
     },
     "execution_count": 51,
     "metadata": {},
     "output_type": "execute_result"
    }
   ],
   "source": [
    "final_comb_df.head()"
   ]
  },
  {
   "cell_type": "code",
   "execution_count": 52,
   "metadata": {},
   "outputs": [],
   "source": [
    "final_comb_df.to_csv(\"features_and_label.csv\",index = False)"
   ]
  },
  {
   "cell_type": "code",
   "execution_count": null,
   "metadata": {},
   "outputs": [],
   "source": []
  }
 ],
 "metadata": {
  "kernelspec": {
   "display_name": "Python 3",
   "language": "python",
   "name": "python3"
  },
  "language_info": {
   "codemirror_mode": {
    "name": "ipython",
    "version": 3
   },
   "file_extension": ".py",
   "mimetype": "text/x-python",
   "name": "python",
   "nbconvert_exporter": "python",
   "pygments_lexer": "ipython3",
   "version": "3.7.1"
  }
 },
 "nbformat": 4,
 "nbformat_minor": 2
}
