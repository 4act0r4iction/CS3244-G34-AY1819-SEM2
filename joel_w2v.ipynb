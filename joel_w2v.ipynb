{
 "cells": [
  {
   "cell_type": "code",
   "execution_count": 1,
   "metadata": {},
   "outputs": [
    {
     "name": "stderr",
     "output_type": "stream",
     "text": [
      "paramiko missing, opening SSH/SCP/SFTP paths will be disabled.  `pip install paramiko` to suppress\n"
     ]
    }
   ],
   "source": [
    "import spacy\n",
    "import re\n",
    "import numpy as np\n",
    "import pandas as pd\n",
    "import pickle\n",
    "import gensim\n",
    "from gensim.models.word2vec import Word2Vec\n",
    "import nltk\n",
    "\n",
    "\n",
    "#sklearn imports\n",
    "from sklearn.model_selection import train_test_split\n",
    "from sklearn.feature_extraction.text import TfidfVectorizer, CountVectorizer\n",
    "from sklearn.linear_model import LogisticRegression\n",
    "from sklearn.svm import SVC\n",
    "from sklearn.naive_bayes import MultinomialNB, GaussianNB\n",
    "from sklearn.metrics import log_loss, recall_score, precision_score\n",
    "from sklearn.pipeline import Pipeline\n",
    "from sklearn.model_selection import GridSearchCV\n",
    "from sklearn.ensemble import RandomForestClassifier, ExtraTreesClassifier\n",
    "from sklearn.neighbors import KNeighborsClassifier\n",
    "\n",
    "\n",
    "import xgboost as xgb\n",
    "\n",
    "nlp = spacy.load('en')"
   ]
  },
  {
   "cell_type": "code",
   "execution_count": 3,
   "metadata": {},
   "outputs": [],
   "source": [
    "df_ori = pd.read_csv(\"dataset.csv\", sep = \",\")\n",
    "df_w2v = pd.read_csv(\"data/w2v_intermediates/w2v_300_dim.csv\", sep = \",\")"
   ]
  },
  {
   "cell_type": "code",
   "execution_count": 4,
   "metadata": {},
   "outputs": [],
   "source": [
    "df = pd.concat([df_ori, df_w2v], axis = 1)"
   ]
  },
  {
   "cell_type": "markdown",
   "metadata": {},
   "source": [
    "## Split to train and validation data"
   ]
  },
  {
   "cell_type": "code",
   "execution_count": 5,
   "metadata": {},
   "outputs": [],
   "source": [
    "x, y = df.drop(\"label\", axis = 1).drop(\"text\", axis = 1), df.label\n",
    "\n",
    "x_train, x_val, y_train, y_val = train_test_split(x, y, \n",
    "                                                  stratify=y, \n",
    "                                                  random_state=0, \n",
    "                                                  test_size=0.2)"
   ]
  },
  {
   "cell_type": "code",
   "execution_count": 36,
   "metadata": {},
   "outputs": [],
   "source": [
    "nb_parameters = {'var_smoothing': (1e-8, 1e-9, 1e-10),\n",
    "             }\n",
    "\n",
    "logreg_parameters = {'C': (0.01, 0.1, 1),\n",
    "             }\n",
    "\n",
    "svc_parameters = {'C': (0.01, 0.1, 1),\n",
    "             }\n",
    "\n",
    "rforest_parameters = {\n",
    "    'criterion':['gini','entropy'],\n",
    "    'max_features':['sqrt','log2',0.3,0.5,0.8],\n",
    "    'max_depth':[2,5,15,20,25,None]\n",
    "    }"
   ]
  },
  {
   "cell_type": "code",
   "execution_count": 37,
   "metadata": {
    "collapsed": true
   },
   "outputs": [
    {
     "name": "stdout",
     "output_type": "stream",
     "text": [
      "Fitting 3 folds for each of 3 candidates, totalling 9 fits\n"
     ]
    },
    {
     "name": "stderr",
     "output_type": "stream",
     "text": [
      "[Parallel(n_jobs=10)]: Using backend LokyBackend with 10 concurrent workers.\n",
      "[Parallel(n_jobs=10)]: Done   9 out of   9 | elapsed:    3.0s finished\n"
     ]
    },
    {
     "name": "stdout",
     "output_type": "stream",
     "text": [
      "Fitting 3 folds for each of 3 candidates, totalling 9 fits\n"
     ]
    },
    {
     "name": "stderr",
     "output_type": "stream",
     "text": [
      "[Parallel(n_jobs=10)]: Using backend LokyBackend with 10 concurrent workers.\n",
      "[Parallel(n_jobs=10)]: Done   9 out of   9 | elapsed:    1.6s finished\n"
     ]
    },
    {
     "name": "stdout",
     "output_type": "stream",
     "text": [
      "Fitting 3 folds for each of 3 candidates, totalling 9 fits\n"
     ]
    },
    {
     "name": "stderr",
     "output_type": "stream",
     "text": [
      "[Parallel(n_jobs=10)]: Using backend LokyBackend with 10 concurrent workers.\n",
      "[Parallel(n_jobs=10)]: Done   9 out of   9 | elapsed:  1.7min finished\n"
     ]
    },
    {
     "data": {
      "text/plain": [
       "GridSearchCV(cv=3, error_score='raise-deprecating',\n",
       "       estimator=SVC(C=1.0, cache_size=200, class_weight=None, coef0=0.0,\n",
       "  decision_function_shape='ovr', degree=3, gamma='auto_deprecated',\n",
       "  kernel='linear', max_iter=-1, probability=False, random_state=None,\n",
       "  shrinking=True, tol=0.001, verbose=False),\n",
       "       fit_params=None, iid='warn', n_jobs=10,\n",
       "       param_grid={'C': (0.01, 0.1, 1)}, pre_dispatch='2*n_jobs',\n",
       "       refit=True, return_train_score='warn', scoring=None, verbose=1)"
      ]
     },
     "execution_count": 37,
     "metadata": {},
     "output_type": "execute_result"
    }
   ],
   "source": [
    "nb_model = GridSearchCV(GaussianNB(), nb_parameters, n_jobs = 10, verbose = 1, cv = 3)\n",
    "nb_model.fit(x_train, y_train)\n",
    "\n",
    "logreg_model = GridSearchCV(LogisticRegression(solver = 'liblinear'), logreg_parameters, n_jobs = 10, verbose = 1, cv = 3)\n",
    "logreg_model.fit(x_train, y_train)\n",
    "\n",
    "svc_model = GridSearchCV(SVC(kernel = \"linear\", probability = True), svc_parameters, n_jobs = 10, verbose = 1, cv = 3)\n",
    "svc_model.fit(x_train, y_train)\n",
    "\n",
    "rforest_model = GridSearchCV(RandomForestClassifier(), rforest_parameters, n_jobs = 10, verbose = 1, cv = 3)\n",
    "rforest_model.fit(x_train, y_train)"
   ]
  },
  {
   "cell_type": "code",
   "execution_count": 67,
   "metadata": {},
   "outputs": [
    {
     "name": "stdout",
     "output_type": "stream",
     "text": [
      "Train accuracy for nb: 0.7715060192936299\n",
      "Val accuracy for nb: 0.7713647959183674\n",
      "Val precision for nb: 0.8494911622924478\n",
      "Val recall for nb: 0.7843719090009891\n"
     ]
    }
   ],
   "source": [
    "y_pred_nb = nb_model.predict(x_val)\n",
    "\n",
    "print(\"Train accuracy for nb: \" + str(nb_model.score(x_train, y_train)))\n",
    "print(\"Val accuracy for nb: \" + str(nb_model.score(x_val, y_val)))\n",
    "print(\"Val precision for nb: \" + str(precision_score(y_val, y_pred_nb)))\n",
    "print(\"Val recall for nb: \" + str(recall_score(y_val, y_pred_nb)))"
   ]
  },
  {
   "cell_type": "code",
   "execution_count": 68,
   "metadata": {},
   "outputs": [
    {
     "name": "stdout",
     "output_type": "stream",
     "text": [
      "Train accuracy for logreg: 0.8779398867894443\n",
      "Val accuracy for logreg: 0.876594387755102\n",
      "Val precision for logreg: 0.88183092013078\n",
      "Val recall for logreg: 0.933728981206726\n"
     ]
    }
   ],
   "source": [
    "y_pred_logreg = logreg_model.predict(x_val)\n",
    "\n",
    "print(\"Train accuracy for logreg: \" + str(logreg_model.score(x_train, y_train)))\n",
    "print(\"Val accuracy for logreg: \" + str(logreg_model.score(x_val, y_val)))\n",
    "print(\"Val precision for logreg: \" + str(precision_score(y_val, y_pred_logreg)))\n",
    "print(\"Val recall for logreg: \" + str(recall_score(y_val, y_pred_logreg)))"
   ]
  },
  {
   "cell_type": "code",
   "execution_count": 69,
   "metadata": {},
   "outputs": [
    {
     "name": "stdout",
     "output_type": "stream",
     "text": [
      "Train accuracy for svc: 0.8856732839033724\n",
      "Val accuracy for svc: 0.8855229591836735\n",
      "Val precision for svc: 0.8965188364329996\n",
      "Val recall for svc: 0.9297725024727992\n"
     ]
    }
   ],
   "source": [
    "y_pred_svc = svc_model.predict(x_val)\n",
    "\n",
    "print(\"Train accuracy for svc: \" + str(svc_model.score(x_train, y_train)))\n",
    "print(\"Val accuracy for svc: \" + str(svc_model.score(x_val, y_val)))\n",
    "print(\"Val precision for svc: \" + str(precision_score(y_val, y_pred_svc)))\n",
    "print(\"Val recall for svc: \" + str(recall_score(y_val, y_pred_svc)))"
   ]
  },
  {
   "cell_type": "code",
   "execution_count": 60,
   "metadata": {},
   "outputs": [
    {
     "name": "stdout",
     "output_type": "stream",
     "text": [
      "Train accuracy for rforest: 0.9956150841106594\n",
      "Val accuracy for rforest: 0.8405612244897959\n",
      "Val precision for rforest: 0.8658653846153846\n",
      "Val recall for rforest: 0.890702274975272\n"
     ]
    }
   ],
   "source": [
    "y_pred_rforest = rforest_model.predict(x_val)\n",
    "\n",
    "print(\"Train accuracy for rforest: \" + str(rforest_model.score(x_train, y_train)))\n",
    "print(\"Val accuracy for rforest: \" + str(rforest_model.score(x_val, y_val)))\n",
    "print(\"Val precision for rforest: \" + str(precision_score(y_val, y_pred_rforest)))\n",
    "print(\"Val recall for rforest: \" + str(recall_score(y_val, y_pred_rforest)))"
   ]
  },
  {
   "cell_type": "code",
   "execution_count": 66,
   "metadata": {},
   "outputs": [],
   "source": [
    "y_pred_proba_logreg = logreg_model.predict_proba(x)\n",
    "y_pred_proba_nb = nb_model.predict_proba(x)\n",
    "y_pred_proba_svc = svc_model.predict_proba(x)\n",
    "y_pred_proba_rforest = rforest_model.predict_proba(x)"
   ]
  },
  {
   "cell_type": "code",
   "execution_count": 77,
   "metadata": {
    "collapsed": true
   },
   "outputs": [
    {
     "ename": "IndexError",
     "evalue": "too many indices for array",
     "output_type": "error",
     "traceback": [
      "\u001b[1;31m---------------------------------------------------------------------------\u001b[0m",
      "\u001b[1;31mIndexError\u001b[0m                                Traceback (most recent call last)",
      "\u001b[1;32m<ipython-input-77-ecc4187828c6>\u001b[0m in \u001b[0;36m<module>\u001b[1;34m\u001b[0m\n\u001b[0;32m      2\u001b[0m \u001b[0my_pred_proba_nb\u001b[0m \u001b[1;33m=\u001b[0m \u001b[0my_pred_proba_nb\u001b[0m\u001b[1;33m[\u001b[0m\u001b[1;33m:\u001b[0m\u001b[1;33m,\u001b[0m\u001b[1;36m1\u001b[0m\u001b[1;33m]\u001b[0m\u001b[1;33m\u001b[0m\u001b[1;33m\u001b[0m\u001b[0m\n\u001b[0;32m      3\u001b[0m \u001b[0my_pred_proba_svc\u001b[0m \u001b[1;33m=\u001b[0m \u001b[0my_pred_proba_svc\u001b[0m\u001b[1;33m[\u001b[0m\u001b[1;33m:\u001b[0m\u001b[1;33m,\u001b[0m\u001b[1;36m1\u001b[0m\u001b[1;33m]\u001b[0m\u001b[1;33m\u001b[0m\u001b[1;33m\u001b[0m\u001b[0m\n\u001b[1;32m----> 4\u001b[1;33m \u001b[0my_pred_proba_rforest\u001b[0m \u001b[1;33m=\u001b[0m \u001b[0my_pred_proba_svc\u001b[0m\u001b[1;33m[\u001b[0m\u001b[1;33m:\u001b[0m\u001b[1;33m,\u001b[0m\u001b[1;36m1\u001b[0m\u001b[1;33m]\u001b[0m\u001b[1;33m\u001b[0m\u001b[1;33m\u001b[0m\u001b[0m\n\u001b[0m",
      "\u001b[1;31mIndexError\u001b[0m: too many indices for array"
     ]
    }
   ],
   "source": [
    "y_pred_proba_logreg = y_pred_proba_logreg[:,1]\n",
    "y_pred_proba_nb = y_pred_proba_nb[:,1]\n",
    "y_pred_proba_svc = y_pred_proba_svc[:,1]\n",
    "y_pred_proba_rforest = y_pred_proba_rforest[:,1]"
   ]
  },
  {
   "cell_type": "code",
   "execution_count": 81,
   "metadata": {},
   "outputs": [],
   "source": [
    "filename = \"models/w2v/nb_model.pkl\"\n",
    "with open(filename,'wb') as file:\n",
    "    pickle.dump(nb_model ,file)"
   ]
  },
  {
   "cell_type": "code",
   "execution_count": 82,
   "metadata": {},
   "outputs": [],
   "source": [
    "filename = \"models/w2v/logreg_model.pkl\"\n",
    "with open(filename,'wb') as file:\n",
    "    pickle.dump(logreg_model ,file)"
   ]
  },
  {
   "cell_type": "code",
   "execution_count": 83,
   "metadata": {},
   "outputs": [],
   "source": [
    "filename = \"models/w2v/svc_model.pkl\"\n",
    "with open(filename,'wb') as file:\n",
    "    pickle.dump(svc_model ,file)"
   ]
  },
  {
   "cell_type": "code",
   "execution_count": 84,
   "metadata": {},
   "outputs": [],
   "source": [
    "filename = \"models/w2v/rforest_model.pkl\"\n",
    "with open(filename,'wb') as file:\n",
    "    pickle.dump(rforest_model ,file)"
   ]
  },
  {
   "cell_type": "code",
   "execution_count": 93,
   "metadata": {},
   "outputs": [],
   "source": [
    "new_df = pd.DataFrame(\n",
    "    {\n",
    "     'prob_nb': y_pred_proba_nb,\n",
    "     'prob_logreg': y_pred_proba_logreg,\n",
    "     'prob_svc': y_pred_proba_svc,\n",
    "     'prob_rforest': y_pred_proba_rforest\n",
    "    })\n",
    "\n",
    "new_df.to_csv(\"w2v_output.csv\", index = False)"
   ]
  },
  {
   "cell_type": "markdown",
   "metadata": {},
   "source": [
    "testing"
   ]
  },
  {
   "cell_type": "code",
   "execution_count": 7,
   "metadata": {},
   "outputs": [],
   "source": [
    "filename = \"models/w2v/w2v_logreg_model.pkl\"\n",
    "with open(filename,'rb') as file:\n",
    "    logreg_model = pickle.load(file)"
   ]
  },
  {
   "cell_type": "code",
   "execution_count": 8,
   "metadata": {},
   "outputs": [
    {
     "name": "stdout",
     "output_type": "stream",
     "text": [
      "Train accuracy for logreg: 0.8779398867894443\n",
      "Val accuracy for logreg: 0.876594387755102\n",
      "Val precision for logreg: 0.88183092013078\n",
      "Val recall for logreg: 0.933728981206726\n"
     ]
    }
   ],
   "source": [
    "y_pred_logreg = logreg_model.predict(x_val)\n",
    "\n",
    "print(\"Train accuracy for logreg: \" + str(logreg_model.score(x_train, y_train)))\n",
    "print(\"Val accuracy for logreg: \" + str(logreg_model.score(x_val, y_val)))\n",
    "print(\"Val precision for logreg: \" + str(precision_score(y_val, y_pred_logreg)))\n",
    "print(\"Val recall for logreg: \" + str(recall_score(y_val, y_pred_logreg)))"
   ]
  },
  {
   "cell_type": "code",
   "execution_count": 9,
   "metadata": {},
   "outputs": [],
   "source": [
    "from sklearn.metrics import classification_report"
   ]
  },
  {
   "cell_type": "code",
   "execution_count": 10,
   "metadata": {},
   "outputs": [
    {
     "name": "stdout",
     "output_type": "stream",
     "text": [
      "              precision    recall  f1-score   support\n",
      "\n",
      "           0       0.87      0.77      0.82      1114\n",
      "           1       0.88      0.93      0.91      2022\n",
      "\n",
      "   micro avg       0.88      0.88      0.88      3136\n",
      "   macro avg       0.87      0.85      0.86      3136\n",
      "weighted avg       0.88      0.88      0.87      3136\n",
      "\n"
     ]
    }
   ],
   "source": [
    "print(classification_report(y_val, y_pred_logreg))"
   ]
  },
  {
   "cell_type": "code",
   "execution_count": null,
   "metadata": {},
   "outputs": [],
   "source": []
  }
 ],
 "metadata": {
  "kernelspec": {
   "display_name": "Python 3",
   "language": "python",
   "name": "python3"
  },
  "language_info": {
   "codemirror_mode": {
    "name": "ipython",
    "version": 3
   },
   "file_extension": ".py",
   "mimetype": "text/x-python",
   "name": "python",
   "nbconvert_exporter": "python",
   "pygments_lexer": "ipython3",
   "version": "3.7.1"
  }
 },
 "nbformat": 4,
 "nbformat_minor": 2
}
