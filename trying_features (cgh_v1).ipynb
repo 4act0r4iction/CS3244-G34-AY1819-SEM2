{
 "cells": [
  {
   "cell_type": "code",
   "execution_count": 42,
   "metadata": {},
   "outputs": [],
   "source": [
    "import spacy\n",
    "import re\n",
    "import numpy as np\n",
    "import pandas as pd\n",
    "\n",
    "#sklearn imports\n",
    "from sklearn.model_selection import train_test_split\n",
    "from sklearn.feature_extraction.text import TfidfVectorizer, CountVectorizer\n",
    "from sklearn.linear_model import LogisticRegression\n",
    "from sklearn.naive_bayes import MultinomialNB\n",
    "from sklearn.metrics import log_loss, recall_score, precision_score\n",
    "\n",
    "nlp = spacy.load('en')"
   ]
  },
  {
   "cell_type": "code",
   "execution_count": 82,
   "metadata": {},
   "outputs": [],
   "source": [
    "data = pd.read_csv(\"combined_data.csv\", sep = \";\")\n",
    "data\n",
    "data_text = data.text[0]\n",
    "\n",
    "def pre_process1(data_text):\n",
    "    ex = data_text\n",
    "    ex = ex.replace(\"\\n\", \" \")\n",
    "    doc = nlp(ex)\n",
    "    \n",
    "    return doc\n",
    "\n",
    "# pre_process1(data_text)"
   ]
  },
  {
   "cell_type": "code",
   "execution_count": null,
   "metadata": {},
   "outputs": [],
   "source": [
    "# data['text'] = data['text'].apply(pre_process1)"
   ]
  },
  {
   "cell_type": "code",
   "execution_count": 46,
   "metadata": {},
   "outputs": [],
   "source": [
    "# data"
   ]
  },
  {
   "cell_type": "code",
   "execution_count": 78,
   "metadata": {},
   "outputs": [
    {
     "data": {
      "text/plain": [
       "Image copyright Getty Images On Sunday morning, Donald Trump went off on a Twitter tirade against a member of his own party. This, in itself, isn't exactly huge news. It's far from the first time the president has turned his rhetorical cannons on his own ranks. This time, however, his attacks were particularly biting and personal. He essentially called Tennessee Senator Bob Corker, the chair of the powerful Senate Foreign Relations Committee, a coward for not running for re-election. He said Mr Corker \"begged\" for the president's endorsement, which he refused to give. He wrongly claimed that Mr Corker's support of the Iranian nuclear agreement was his only political accomplishment. Unlike some of his colleagues, Mr Corker - free from having to worry about his immediate political future - didn't hold his tongue. Skip Twitter post by @SenBobCorker It's a shame the White House has become an adult day care center. Someone obviously missed their shift this morning. — Senator Bob Corker (@SenBobCorker) October 8, 2017 Report That wasn't the end of it, though. He then spoke with the New York Times and really let the president have it. Here are four choice quotes from the Tennessee senator's interview with the Times and why they are particularly damning. \"I don't know why the president tweets out things that are not true. You know he does it, everyone knows he does it, but he does.\" You can't really sugarcoat this one. Mr Corker is flat-out saying the president is a liar - and everyone knows it. The senator, in particular, is challenging Mr Trump's insistence that he unsuccessfully pleaded for his endorsement, but the accusation is much broader. Mr Corker and the president used to be something akin to allies. The Tennessean was on Mr Trump's short list for vice-president and secretary of state. Image copyright Getty Images Image caption Bob Corker at Trump campaign rally in July 2016 Those days are seemingly very much over now - and it's not like Mr Corker is going anywhere anytime soon. Although he's not running for re-election, he'll be in the Senate, chairing a powerful committee, until January 2019. The president's margin for success in that chamber is razor-thin. If Democrats can continue to stand together in opposition, he can afford to lose only two votes out of 52 Republican senators. That's why healthcare reform collapsed in July - and it could be bad news for tax efforts. From here on out, Mr Corker isn't going to do the president any favours. \"Look, except for a few people, the vast majority of our caucus understands what we're dealing with here.\" Frustration in Congress has been growing over what Republicans feel has been the president's inability to focus on advancing their agenda. Getting a sharply divided party to come together on plans to repeal Obamacare, reform taxes or boost infrastructure spending is challenging enough. Doing so when the president stirs up unrelated controversies on a seemingly daily basis makes things all the harder. One of the president's gifts has been his ability to shake off negative stories by quickly moving on to a different subject. That worked brilliantly during his presidential campaign, but it's less effective during the legislative slow grind. Image copyright Getty Images Image caption Corker at the confirmation hearing for Secretary of State Rex Tillerson For months, Republicans in Congress have been grumbling about this in the background and among themselves. Occasionally, someone like Mr McConnell will lament that the president doesn't understand how the Senate works. Mr Corker has now stated it loud and clear. And, what's more, he says almost everyone agrees with him. They've kept silent until now because they still hope to pass conservative legislation that the president can sign or fear Mr Trump's legions will back a primary challenge next year or stay home during the general election. If that calculus ever changes - if it becomes riskier to stay silent than speak out - Mr Trump will be in real trouble. \"A lot of people think that there is some kind of 'good cop, bad cop' act underway, but that's just not true.\" Time and again, Mr Trump has appeared to undercut Secretary of State Rex Tillerson and others in his administration who are attempting to use soft diplomacy to deal with a range of international crises. The war against the Taliban in Afghanistan, Iran's compliance with the multinational nuclear agreement, the ongoing dispute between Qatar and its Persian Gulf neighbours, the unrest in Venezuela and, most recently, North Korea's continued ballistic missile tests have all been the target of the president's offhand remarks and Twitter invective. Some administration defenders have said this is all a part of Mr Trump's strategy - an updated version of the Nixon-era \"madman theory\", in which the president forces adversaries to give way because they fear an unpredictable US leader's actions. Mr Corker isn't buying it. There's no strategy, he says, just the possibility of chaos - which he hopes Mr Trump's senior advisers will be able to avoid. \"I know for a fact that every single day at the White House, it's a situation of trying to contain him.\" There's now a growing collection of John Kelly face-palm photos that serve as a testament to the chief-of-staff's reported frustration at dealing with the president. Mr Trump goes off-script to praise torch-bearing white nationalists at a rally in Charlottesville, and Mr Kelly is captured closing his eyes and rubbing the arch of his nose, as if attempting to stave off a migraine. Image copyright Reuters Image caption White House Chief of Staff John Kelly looks on as US President Donald Trump speaks at a campaign rally The president calls North Korean leaders \"criminals\" in a speech to the United Nations, and Mr Kelly straight-up buries his face in his hands. The White House communications team is often left scrambling to try to explain or reframe an indelicate presidential \"joke\" or remark that directly contradicts what was until then the official administration line. Even though Mr Kelly has brought some discipline to the West Wing staff, the president still marches to the beat of his own drum - and continues to have unfettered access to his phone's Twitter app. Bob Corker is only the latest person - politician, journalist, sports star or celebrity - to feel the mercurial president's uncontainable ire."
      ]
     },
     "execution_count": 78,
     "metadata": {},
     "output_type": "execute_result"
    }
   ],
   "source": [
    "doc = pre_process1(x)\n",
    "\n",
    "# doc = data[0]\n",
    "doc"
   ]
  },
  {
   "cell_type": "code",
   "execution_count": 98,
   "metadata": {},
   "outputs": [],
   "source": [
    "# Get Post-tag\n",
    "\n",
    "postag_arr = np.zeros(0)\n",
    "for i in doc:\n",
    "    postag_arr = np.append(postag_arr, i.tag_)"
   ]
  },
  {
   "cell_type": "code",
   "execution_count": 84,
   "metadata": {},
   "outputs": [
    {
     "data": {
      "text/plain": [
       "array(['NN', 'NN', 'NNP', ..., 'JJ', 'NN', '.'], dtype='<U32')"
      ]
     },
     "execution_count": 84,
     "metadata": {},
     "output_type": "execute_result"
    }
   ],
   "source": [
    "postag_arr"
   ]
  },
  {
   "cell_type": "code",
   "execution_count": 85,
   "metadata": {},
   "outputs": [
    {
     "data": {
      "text/plain": [
       "Counter({\"''\": 16,\n",
       "         ',': 47,\n",
       "         '-LRB-': 1,\n",
       "         '-RRB-': 1,\n",
       "         '.': 51,\n",
       "         ':': 9,\n",
       "         'ADD': 1,\n",
       "         'CC': 30,\n",
       "         'CD': 8,\n",
       "         'DT': 102,\n",
       "         'EX': 3,\n",
       "         'HYPH': 12,\n",
       "         'IN': 125,\n",
       "         'JJ': 65,\n",
       "         'JJR': 4,\n",
       "         'JJS': 1,\n",
       "         'MD': 10,\n",
       "         'NFP': 1,\n",
       "         'NN': 182,\n",
       "         'NNP': 134,\n",
       "         'NNPS': 6,\n",
       "         'NNS': 40,\n",
       "         'PDT': 2,\n",
       "         'POS': 18,\n",
       "         'PRP': 42,\n",
       "         'PRP$': 22,\n",
       "         'RB': 70,\n",
       "         'RBR': 1,\n",
       "         'RBS': 1,\n",
       "         'RP': 9,\n",
       "         'TO': 24,\n",
       "         'VB': 47,\n",
       "         'VBD': 17,\n",
       "         'VBG': 27,\n",
       "         'VBN': 19,\n",
       "         'VBP': 17,\n",
       "         'VBZ': 59,\n",
       "         'WDT': 7,\n",
       "         'WP': 5,\n",
       "         'WRB': 5,\n",
       "         '``': 2})"
      ]
     },
     "execution_count": 85,
     "metadata": {},
     "output_type": "execute_result"
    }
   ],
   "source": [
    "from collections import Counter\n",
    "postag_count = Counter(([postag for postag in postag_arr]))\n",
    "postag_count"
   ]
  },
  {
   "cell_type": "code",
   "execution_count": 88,
   "metadata": {},
   "outputs": [
    {
     "name": "stdout",
     "output_type": "stream",
     "text": [
      "134\n",
      "1243\n",
      "0.10780370072405471\n"
     ]
    }
   ],
   "source": [
    "def NNP_percent(postag_count):\n",
    "    return postag_count.get(\"NNP\") / sum(postag_count.values())\n",
    "\n",
    "\n",
    "print(postag_count.get(\"NNP\"))\n",
    "print(sum(postag_count.values()))\n",
    "print(NNP_percent(postag_count))"
   ]
  },
  {
   "cell_type": "code",
   "execution_count": 91,
   "metadata": {},
   "outputs": [
    {
     "name": "stdout",
     "output_type": "stream",
     "text": [
      "6\n",
      "1243\n",
      "0.004827031375703942\n"
     ]
    }
   ],
   "source": [
    "def NNPS_percent(postag_count):\n",
    "    return postag_count.get(\"NNPS\") / sum(postag_count.values())\n",
    "\n",
    "\n",
    "print(postag_count.get(\"NNPS\"))\n",
    "print(sum(postag_count.values()))\n",
    "print(NNPS_percent(postag_count))"
   ]
  },
  {
   "cell_type": "code",
   "execution_count": 95,
   "metadata": {},
   "outputs": [
    {
     "name": "stdout",
     "output_type": "stream",
     "text": [
      "4.735454545454545\n"
     ]
    }
   ],
   "source": [
    "# token.is_stop != True\n",
    "words =  [token.text for token in doc if token.is_punct != True]\n",
    "\n",
    "def average_word_length(words):\n",
    "    count = 0\n",
    "    \n",
    "    for word in words:     \n",
    "        count += len(word)\n",
    "        \n",
    "    return count / len(words)\n",
    "\n",
    "# print(words)\n",
    "print(average_word_length(words))"
   ]
  },
  {
   "cell_type": "code",
   "execution_count": 104,
   "metadata": {},
   "outputs": [
    {
     "name": "stdout",
     "output_type": "stream",
     "text": [
      "Counter({'NOUN': 222, 'VERB': 194, 'PROPN': 140, 'PUNCT': 140, 'DET': 133, 'ADP': 125, 'ADV': 80, 'ADJ': 70, 'PART': 51, 'PRON': 47, 'CCONJ': 30, 'NUM': 8, 'AUX': 2, 'X': 1})\n",
      "194\n",
      "1243\n",
      "0.15607401448109412\n"
     ]
    }
   ],
   "source": [
    "pos_arr = np.zeros(0)\n",
    "for i in doc:\n",
    "    pos_arr = np.append(pos_arr, i.pos_)\n",
    "    \n",
    "pos_arr\n",
    "\n",
    "pos_count = Counter(([pos for pos in pos_arr]))\n",
    "verb_count = pos_count.get(\"VERB\") / sum(pos_count.values())\n",
    "print(pos_count)\n",
    "print(pos_count.get(\"VERB\"))\n",
    "print(sum(pos_count.values()))\n",
    "print(verb_count)"
   ]
  },
  {
   "cell_type": "markdown",
   "metadata": {},
   "source": [
    "## Split to train and validation data"
   ]
  },
  {
   "cell_type": "code",
   "execution_count": 23,
   "metadata": {},
   "outputs": [],
   "source": [
    "x, y = data.text, data.label\n",
    "\n",
    "x_train, x_val, y_train, y_val = train_test_split(x, y, \n",
    "                                                  stratify=y, \n",
    "                                                  random_state=0, \n",
    "                                                  test_size=0.1, shuffle=True)\n",
    "\n"
   ]
  },
  {
   "cell_type": "code",
   "execution_count": 27,
   "metadata": {},
   "outputs": [
    {
     "data": {
      "text/plain": [
       "(27208,)"
      ]
     },
     "execution_count": 27,
     "metadata": {},
     "output_type": "execute_result"
    }
   ],
   "source": [
    "x_train.shape"
   ]
  },
  {
   "cell_type": "code",
   "execution_count": 28,
   "metadata": {},
   "outputs": [
    {
     "data": {
      "text/plain": [
       "(30232,)"
      ]
     },
     "execution_count": 28,
     "metadata": {},
     "output_type": "execute_result"
    }
   ],
   "source": [
    "x.shape"
   ]
  },
  {
   "cell_type": "code",
   "execution_count": 29,
   "metadata": {},
   "outputs": [],
   "source": [
    "doc = nlp(x[0])"
   ]
  },
  {
   "cell_type": "code",
   "execution_count": 30,
   "metadata": {},
   "outputs": [],
   "source": [
    "postag_arr = np.zeros(0)\n",
    "for i in doc:\n",
    "    postag_arr = np.append(postag_arr, i.tag_)"
   ]
  },
  {
   "cell_type": "code",
   "execution_count": 33,
   "metadata": {},
   "outputs": [
    {
     "data": {
      "text/plain": [
       "array(['NN', 'NN', 'NNP', ..., 'JJ', 'NN', '.'], dtype='<U32')"
      ]
     },
     "execution_count": 33,
     "metadata": {},
     "output_type": "execute_result"
    }
   ],
   "source": [
    "postag_arr"
   ]
  },
  {
   "cell_type": "code",
   "execution_count": null,
   "metadata": {},
   "outputs": [],
   "source": [
    "def NN_percent(x):\n",
    "    return sum([k == \"NN\" for k in x])/ len(x)"
   ]
  },
  {
   "cell_type": "code",
   "execution_count": null,
   "metadata": {},
   "outputs": [],
   "source": []
  },
  {
   "cell_type": "markdown",
   "metadata": {},
   "source": [
    "## Tokenize and remove stop words"
   ]
  },
  {
   "cell_type": "code",
   "execution_count": 17,
   "metadata": {},
   "outputs": [],
   "source": [
    "\n",
    "\n",
    "doc = nlp(ex)\n",
    "\n",
    "words =  [token.text for token in doc if token.is_stop != True and token.is_punct != True]"
   ]
  },
  {
   "cell_type": "code",
   "execution_count": 18,
   "metadata": {},
   "outputs": [
    {
     "data": {
      "text/plain": [
       "['Image',\n",
       " 'copyright',\n",
       " 'Getty',\n",
       " 'Images',\n",
       " '\\n',\n",
       " 'Sunday',\n",
       " 'morning',\n",
       " 'Donald',\n",
       " 'Trump',\n",
       " 'went',\n",
       " 'Twitter',\n",
       " 'tirade',\n",
       " 'member',\n",
       " 'party',\n",
       " '\\n',\n",
       " 'exactly',\n",
       " 'huge',\n",
       " 'news',\n",
       " 'far',\n",
       " 'time',\n",
       " 'president',\n",
       " 'turned',\n",
       " 'rhetorical',\n",
       " 'cannons',\n",
       " 'ranks',\n",
       " '\\n',\n",
       " 'time',\n",
       " 'attacks',\n",
       " 'particularly',\n",
       " 'biting',\n",
       " 'personal',\n",
       " 'essentially',\n",
       " 'called',\n",
       " 'Tennessee',\n",
       " 'Senator',\n",
       " 'Bob',\n",
       " 'Corker',\n",
       " 'chair',\n",
       " 'powerful',\n",
       " 'Senate',\n",
       " 'Foreign',\n",
       " 'Relations',\n",
       " 'Committee',\n",
       " 'coward',\n",
       " 'running',\n",
       " 'election',\n",
       " '\\n',\n",
       " 'said',\n",
       " 'Mr',\n",
       " 'Corker',\n",
       " 'begged',\n",
       " 'president',\n",
       " 'endorsement',\n",
       " 'refused',\n",
       " 'wrongly',\n",
       " 'claimed',\n",
       " 'Mr',\n",
       " 'Corker',\n",
       " 'support',\n",
       " 'Iranian',\n",
       " 'nuclear',\n",
       " 'agreement',\n",
       " 'political',\n",
       " 'accomplishment',\n",
       " '\\n',\n",
       " 'Unlike',\n",
       " 'colleagues',\n",
       " 'Mr',\n",
       " 'Corker',\n",
       " 'free',\n",
       " 'having',\n",
       " 'worry',\n",
       " 'immediate',\n",
       " 'political',\n",
       " 'future',\n",
       " 'hold',\n",
       " 'tongue',\n",
       " '\\n',\n",
       " 'Skip',\n",
       " 'Twitter',\n",
       " 'post',\n",
       " '@SenBobCorker',\n",
       " 'shame',\n",
       " 'White',\n",
       " 'House',\n",
       " 'adult',\n",
       " 'day',\n",
       " 'care',\n",
       " 'center',\n",
       " 'obviously',\n",
       " 'missed',\n",
       " 'shift',\n",
       " 'morning',\n",
       " 'Senator',\n",
       " 'Bob',\n",
       " 'Corker',\n",
       " '@SenBobCorker',\n",
       " 'October',\n",
       " '8',\n",
       " '2017',\n",
       " 'Report',\n",
       " '\\n',\n",
       " 'end',\n",
       " 'spoke',\n",
       " 'New',\n",
       " 'York',\n",
       " 'Times',\n",
       " 'let',\n",
       " 'president',\n",
       " 'choice',\n",
       " 'quotes',\n",
       " 'Tennessee',\n",
       " 'senator',\n",
       " 'interview',\n",
       " 'Times',\n",
       " 'particularly',\n",
       " 'damning',\n",
       " '\\n',\n",
       " 'know',\n",
       " 'president',\n",
       " 'tweets',\n",
       " 'things',\n",
       " 'true',\n",
       " 'know',\n",
       " 'knows',\n",
       " '\\n',\n",
       " 'sugarcoat',\n",
       " 'Mr',\n",
       " 'Corker',\n",
       " 'flat',\n",
       " 'saying',\n",
       " 'president',\n",
       " 'liar',\n",
       " 'knows',\n",
       " '\\n',\n",
       " 'senator',\n",
       " 'particular',\n",
       " 'challenging',\n",
       " 'Mr',\n",
       " 'Trump',\n",
       " 'insistence',\n",
       " 'unsuccessfully',\n",
       " 'pleaded',\n",
       " 'endorsement',\n",
       " 'accusation',\n",
       " 'broader',\n",
       " '\\n',\n",
       " 'Mr',\n",
       " 'Corker',\n",
       " 'president',\n",
       " 'akin',\n",
       " 'allies',\n",
       " 'Tennessean',\n",
       " 'Mr',\n",
       " 'Trump',\n",
       " 'short',\n",
       " 'list',\n",
       " 'vice',\n",
       " 'president',\n",
       " 'secretary',\n",
       " 'state',\n",
       " '\\n',\n",
       " 'Image',\n",
       " 'copyright',\n",
       " 'Getty',\n",
       " 'Images',\n",
       " 'Image',\n",
       " 'caption',\n",
       " 'Bob',\n",
       " 'Corker',\n",
       " 'Trump',\n",
       " 'campaign',\n",
       " 'rally',\n",
       " 'July',\n",
       " '2016',\n",
       " '\\n',\n",
       " 'days',\n",
       " 'seemingly',\n",
       " 'like',\n",
       " 'Mr',\n",
       " 'Corker',\n",
       " 'going',\n",
       " 'anytime',\n",
       " 'soon',\n",
       " 'running',\n",
       " 'election',\n",
       " 'Senate',\n",
       " 'chairing',\n",
       " 'powerful',\n",
       " 'committee',\n",
       " 'January',\n",
       " '2019',\n",
       " '\\n',\n",
       " 'president',\n",
       " 'margin',\n",
       " 'success',\n",
       " 'chamber',\n",
       " 'razor',\n",
       " 'thin',\n",
       " 'Democrats',\n",
       " 'continue',\n",
       " 'stand',\n",
       " 'opposition',\n",
       " 'afford',\n",
       " 'lose',\n",
       " 'votes',\n",
       " '52',\n",
       " 'Republican',\n",
       " 'senators',\n",
       " 'healthcare',\n",
       " 'reform',\n",
       " 'collapsed',\n",
       " 'July',\n",
       " 'bad',\n",
       " 'news',\n",
       " 'tax',\n",
       " 'efforts',\n",
       " '\\n',\n",
       " 'Mr',\n",
       " 'Corker',\n",
       " 'going',\n",
       " 'president',\n",
       " 'favours',\n",
       " '\\n',\n",
       " 'Look',\n",
       " 'people',\n",
       " 'vast',\n",
       " 'majority',\n",
       " 'caucus',\n",
       " 'understands',\n",
       " 'dealing',\n",
       " '\\n',\n",
       " 'Frustration',\n",
       " 'Congress',\n",
       " 'growing',\n",
       " 'Republicans',\n",
       " 'feel',\n",
       " 'president',\n",
       " 'inability',\n",
       " 'focus',\n",
       " 'advancing',\n",
       " 'agenda',\n",
       " 'Getting',\n",
       " 'sharply',\n",
       " 'divided',\n",
       " 'party',\n",
       " 'come',\n",
       " 'plans',\n",
       " 'repeal',\n",
       " 'Obamacare',\n",
       " 'reform',\n",
       " 'taxes',\n",
       " 'boost',\n",
       " 'infrastructure',\n",
       " 'spending',\n",
       " 'challenging',\n",
       " 'president',\n",
       " 'stirs',\n",
       " 'unrelated',\n",
       " 'controversies',\n",
       " 'seemingly',\n",
       " 'daily',\n",
       " 'basis',\n",
       " 'makes',\n",
       " 'things',\n",
       " 'harder',\n",
       " '\\n',\n",
       " 'president',\n",
       " 'gifts',\n",
       " 'ability',\n",
       " 'shake',\n",
       " 'negative',\n",
       " 'stories',\n",
       " 'quickly',\n",
       " 'moving',\n",
       " 'different',\n",
       " 'subject',\n",
       " 'worked',\n",
       " 'brilliantly',\n",
       " 'presidential',\n",
       " 'campaign',\n",
       " 'effective',\n",
       " 'legislative',\n",
       " 'slow',\n",
       " 'grind',\n",
       " '\\n',\n",
       " 'Image',\n",
       " 'copyright',\n",
       " 'Getty',\n",
       " 'Images',\n",
       " 'Image',\n",
       " 'caption',\n",
       " 'Corker',\n",
       " 'confirmation',\n",
       " 'hearing',\n",
       " 'Secretary',\n",
       " 'State',\n",
       " 'Rex',\n",
       " 'Tillerson',\n",
       " '\\n',\n",
       " 'months',\n",
       " 'Republicans',\n",
       " 'Congress',\n",
       " 'grumbling',\n",
       " 'background',\n",
       " 'Occasionally',\n",
       " 'like',\n",
       " 'Mr',\n",
       " 'McConnell',\n",
       " 'lament',\n",
       " 'president',\n",
       " 'understand',\n",
       " 'Senate',\n",
       " 'works',\n",
       " '\\n',\n",
       " 'Mr',\n",
       " 'Corker',\n",
       " 'stated',\n",
       " 'loud',\n",
       " 'clear',\n",
       " 'says',\n",
       " 'agrees',\n",
       " 'kept',\n",
       " 'silent',\n",
       " 'hope',\n",
       " 'pass',\n",
       " 'conservative',\n",
       " 'legislation',\n",
       " 'president',\n",
       " 'sign',\n",
       " 'fear',\n",
       " 'Mr',\n",
       " 'Trump',\n",
       " 'legions',\n",
       " 'primary',\n",
       " 'challenge',\n",
       " 'year',\n",
       " 'stay',\n",
       " 'home',\n",
       " 'general',\n",
       " 'election',\n",
       " '\\n',\n",
       " 'calculus',\n",
       " 'changes',\n",
       " 'riskier',\n",
       " 'stay',\n",
       " 'silent',\n",
       " 'speak',\n",
       " 'Mr',\n",
       " 'Trump',\n",
       " 'real',\n",
       " 'trouble',\n",
       " '\\n',\n",
       " 'lot',\n",
       " 'people',\n",
       " 'think',\n",
       " 'kind',\n",
       " 'good',\n",
       " 'cop',\n",
       " 'bad',\n",
       " 'cop',\n",
       " 'act',\n",
       " 'underway',\n",
       " 'true',\n",
       " '\\n',\n",
       " 'Time',\n",
       " 'Mr',\n",
       " 'Trump',\n",
       " 'appeared',\n",
       " 'undercut',\n",
       " 'Secretary',\n",
       " 'State',\n",
       " 'Rex',\n",
       " 'Tillerson',\n",
       " 'administration',\n",
       " 'attempting',\n",
       " 'use',\n",
       " 'soft',\n",
       " 'diplomacy',\n",
       " 'deal',\n",
       " 'range',\n",
       " 'international',\n",
       " 'crises',\n",
       " '\\n',\n",
       " 'war',\n",
       " 'Taliban',\n",
       " 'Afghanistan',\n",
       " 'Iran',\n",
       " 'compliance',\n",
       " 'multinational',\n",
       " 'nuclear',\n",
       " 'agreement',\n",
       " 'ongoing',\n",
       " 'dispute',\n",
       " 'Qatar',\n",
       " 'Persian',\n",
       " 'Gulf',\n",
       " 'neighbours',\n",
       " 'unrest',\n",
       " 'Venezuela',\n",
       " 'recently',\n",
       " 'North',\n",
       " 'Korea',\n",
       " 'continued',\n",
       " 'ballistic',\n",
       " 'missile',\n",
       " 'tests',\n",
       " 'target',\n",
       " 'president',\n",
       " 'offhand',\n",
       " 'remarks',\n",
       " 'Twitter',\n",
       " 'invective',\n",
       " '\\n',\n",
       " 'administration',\n",
       " 'defenders',\n",
       " 'said',\n",
       " 'Mr',\n",
       " 'Trump',\n",
       " 'strategy',\n",
       " 'updated',\n",
       " 'version',\n",
       " 'Nixon',\n",
       " 'era',\n",
       " 'madman',\n",
       " 'theory',\n",
       " 'president',\n",
       " 'forces',\n",
       " 'adversaries',\n",
       " 'way',\n",
       " 'fear',\n",
       " 'unpredictable',\n",
       " 'leader',\n",
       " 'actions',\n",
       " '\\n',\n",
       " 'Mr',\n",
       " 'Corker',\n",
       " 'buying',\n",
       " 'strategy',\n",
       " 'says',\n",
       " 'possibility',\n",
       " 'chaos',\n",
       " 'hopes',\n",
       " 'Mr',\n",
       " 'Trump',\n",
       " 'senior',\n",
       " 'advisers',\n",
       " 'able',\n",
       " 'avoid',\n",
       " '\\n',\n",
       " 'know',\n",
       " 'fact',\n",
       " 'single',\n",
       " 'day',\n",
       " 'White',\n",
       " 'House',\n",
       " 'situation',\n",
       " 'trying',\n",
       " 'contain',\n",
       " '\\n',\n",
       " 'growing',\n",
       " 'collection',\n",
       " 'John',\n",
       " 'Kelly',\n",
       " 'face',\n",
       " 'palm',\n",
       " 'photos',\n",
       " 'serve',\n",
       " 'testament',\n",
       " 'chief',\n",
       " 'staff',\n",
       " 'reported',\n",
       " 'frustration',\n",
       " 'dealing',\n",
       " 'president',\n",
       " '\\n',\n",
       " 'Mr',\n",
       " 'Trump',\n",
       " 'goes',\n",
       " 'script',\n",
       " 'praise',\n",
       " 'torch',\n",
       " 'bearing',\n",
       " 'white',\n",
       " 'nationalists',\n",
       " 'rally',\n",
       " 'Charlottesville',\n",
       " 'Mr',\n",
       " 'Kelly',\n",
       " 'captured',\n",
       " 'closing',\n",
       " 'eyes',\n",
       " 'rubbing',\n",
       " 'arch',\n",
       " 'nose',\n",
       " 'attempting',\n",
       " 'stave',\n",
       " 'migraine',\n",
       " '\\n',\n",
       " 'Image',\n",
       " 'copyright',\n",
       " 'Reuters',\n",
       " 'Image',\n",
       " 'caption',\n",
       " 'White',\n",
       " 'House',\n",
       " 'Chief',\n",
       " 'Staff',\n",
       " 'John',\n",
       " 'Kelly',\n",
       " 'looks',\n",
       " 'President',\n",
       " 'Donald',\n",
       " 'Trump',\n",
       " 'speaks',\n",
       " 'campaign',\n",
       " 'rally',\n",
       " '\\n',\n",
       " 'president',\n",
       " 'calls',\n",
       " 'North',\n",
       " 'Korean',\n",
       " 'leaders',\n",
       " 'criminals',\n",
       " 'speech',\n",
       " 'United',\n",
       " 'Nations',\n",
       " 'Mr',\n",
       " 'Kelly',\n",
       " 'straight',\n",
       " 'buries',\n",
       " 'face',\n",
       " 'hands',\n",
       " '\\n',\n",
       " 'White',\n",
       " 'House',\n",
       " 'communications',\n",
       " 'team',\n",
       " 'left',\n",
       " 'scrambling',\n",
       " 'try',\n",
       " 'explain',\n",
       " 'reframe',\n",
       " 'indelicate',\n",
       " 'presidential',\n",
       " 'joke',\n",
       " 'remark',\n",
       " 'directly',\n",
       " 'contradicts',\n",
       " 'official',\n",
       " 'administration',\n",
       " 'line',\n",
       " '\\n',\n",
       " 'Mr',\n",
       " 'Kelly',\n",
       " 'brought',\n",
       " 'discipline',\n",
       " 'West',\n",
       " 'Wing',\n",
       " 'staff',\n",
       " 'president',\n",
       " 'marches',\n",
       " 'beat',\n",
       " 'drum',\n",
       " 'continues',\n",
       " 'unfettered',\n",
       " 'access',\n",
       " 'phone',\n",
       " 'Twitter',\n",
       " 'app',\n",
       " '\\n',\n",
       " 'Bob',\n",
       " 'Corker',\n",
       " 'latest',\n",
       " 'person',\n",
       " 'politician',\n",
       " 'journalist',\n",
       " 'sports',\n",
       " 'star',\n",
       " 'celebrity',\n",
       " 'feel',\n",
       " 'mercurial',\n",
       " 'president',\n",
       " 'uncontainable',\n",
       " 'ire']"
      ]
     },
     "execution_count": 18,
     "metadata": {},
     "output_type": "execute_result"
    }
   ],
   "source": [
    "words"
   ]
  },
  {
   "cell_type": "markdown",
   "metadata": {},
   "source": [
    "## Tokenize, remove stop words and lemmatize"
   ]
  },
  {
   "cell_type": "code",
   "execution_count": 19,
   "metadata": {},
   "outputs": [
    {
     "data": {
      "text/plain": [
       "'image copyright Getty Images \\n On Sunday morning , Donald Trump go off on a Twitter tirade against a member of -PRON- own party . \\n This , in -PRON- , be not exactly huge news . -PRON- be far from the first time the president have turn -PRON- rhetorical cannon on -PRON- own rank . \\n This time , however , -PRON- attack be particularly biting and personal . -PRON- essentially call Tennessee Senator Bob Corker , the chair of the powerful Senate Foreign Relations Committee , a coward for not run for re - election . \\n -PRON- say Mr Corker \" beg \" for the president \\'s endorsement , which -PRON- refuse to give . -PRON- wrongly claim that Mr Corker \\'s support of the iranian nuclear agreement be -PRON- only political accomplishment . \\n unlike some of -PRON- colleague , Mr Corker - free from have to worry about -PRON- immediate political future - do not hold -PRON- tongue . \\n Skip Twitter post by @SenBobCorker -PRON- be a shame the White House have become an adult day care center . Someone obviously miss -PRON- shift this morning . — Senator Bob Corker ( @SenBobCorker ) October 8 , 2017 Report \\n that be not the end of -PRON- , though . -PRON- then speak with the New York Times and really let the president have -PRON- . here be four choice quote from the Tennessee senator \\'s interview with the Times and why -PRON- be particularly damn . \\n \" -PRON- do not know why the president tweet out thing that be not true . -PRON- know -PRON- do -PRON- , everyone know -PRON- do -PRON- , but -PRON- do . \" \\n -PRON- can not really sugarcoat this one . Mr Corker be flat - out say the president be a liar - and everyone know -PRON- . \\n the senator , in particular , be challenge Mr Trump \\'s insistence that -PRON- unsuccessfully plead for -PRON- endorsement , but the accusation be much broad . \\n Mr Corker and the president use to be something akin to ally . the Tennessean be on Mr Trump \\'s short list for vice - president and secretary of state . \\n image copyright Getty Images Image caption Bob Corker at Trump campaign rally in July 2016 \\n Those day be seemingly very much over now - and -PRON- be not like Mr Corker be go anywhere anytime soon . Although -PRON- be not run for re - election , -PRON- will be in the Senate , chair a powerful committee , until January 2019 . \\n the president \\'s margin for success in that chamber be razor - thin . If Democrats can continue to stand together in opposition , -PRON- can afford to lose only two vote out of 52 republican senator . that be why healthcare reform collapse in July - and -PRON- could be bad news for tax effort . \\n From here on out , Mr Corker be not go to do the president any favour . \\n \" look , except for a few people , the vast majority of -PRON- caucus understand what -PRON- be deal with here . \" \\n Frustration in Congress have be grow over what Republicans feel have be the president \\'s inability to focus on advance -PRON- agenda . get a sharply divide party to come together on plan to repeal Obamacare , reform taxis or boost infrastructure spending be challenge enough . do so when the president stir up unrelated controversy on a seemingly daily basis make thing all the hard . \\n one of the president \\'s gift have be -PRON- ability to shake off negative story by quickly move on to a different subject . that work brilliantly during -PRON- presidential campaign , but -PRON- be less effective during the legislative slow grind . \\n image copyright Getty Images Image caption Corker at the confirmation hearing for Secretary of State Rex Tillerson \\n For month , Republicans in Congress have be grumble about this in the background and among -PRON- . occasionally , someone like Mr McConnell will lament that the president do not understand how the Senate work . \\n Mr Corker have now state -PRON- loud and clear . and , what be more , -PRON- say almost everyone agree with -PRON- . -PRON- have keep silent until now because -PRON- still hope to pass conservative legislation that the president can sign or fear Mr Trump \\'s legion will back a primary challenge next year or stay home during the general election . \\n If that calculus ever change - if -PRON- become risky to stay silent than speak out - Mr Trump will be in real trouble . \\n \" a lot of people think that there be some kind of \\' good cop , bad cop \\' act underway , but that be just not true . \" \\n time and again , Mr Trump have appear to undercut Secretary of State Rex Tillerson and other in -PRON- administration who be attempt to use soft diplomacy to deal with a range of international crisis . \\n the war against the Taliban in Afghanistan , Iran \\'s compliance with the multinational nuclear agreement , the ongoing dispute between Qatar and -PRON- Persian Gulf neighbour , the unrest in Venezuela and , most recently , North Korea \\'s continue ballistic missile test have all be the target of the president \\'s offhand remark and Twitter invective . \\n some administration defender have say this be all a part of Mr Trump \\'s strategy - an update version of the Nixon - era \" madman theory \" , in which the president force adversary to give way because -PRON- fear an unpredictable US leader \\'s action . \\n Mr Corker be not buy -PRON- . there be no strategy , -PRON- say , just the possibility of chaos - which -PRON- hop Mr Trump \\'s senior adviser will be able to avoid . \\n \" -PRON- know for a fact that every single day at the White House , -PRON- be a situation of try to contain -PRON- . \" \\n there be now a grow collection of John Kelly face - palm photo that serve as a testament to the chief - of - staff \\'s report frustration at deal with the president . \\n Mr Trump go off - script to praise torch - bear white nationalist at a rally in Charlottesville , and Mr Kelly be capture close -PRON- eye and rub the arch of -PRON- nose , as if attempt to stave off a migraine . \\n image copyright Reuters Image caption White House Chief of Staff John Kelly look on as US President Donald Trump speak at a campaign rally \\n the president call north korean leader \" criminal \" in a speech to the United Nations , and Mr Kelly straight - up burie -PRON- face in -PRON- hand . \\n the White House communication team be often leave scramble to try to explain or reframe an indelicate presidential \" joke \" or remark that directly contradict what be until then the official administration line . \\n even though Mr Kelly have bring some discipline to the West Wing staff , the president still march to the beat of -PRON- own drum - and continue to have unfettered access to -PRON- phone \\'s Twitter app . \\n Bob Corker be only the late person - politician , journalist , sport star or celebrity - to feel the mercurial president \\'s uncontainable ire .'"
      ]
     },
     "execution_count": 19,
     "metadata": {},
     "output_type": "execute_result"
    }
   ],
   "source": [
    "temp = str()\n",
    "for token in doc:\n",
    "    temp += \" \" + token.lemma_\n",
    "\n",
    "temp.strip()"
   ]
  },
  {
   "cell_type": "markdown",
   "metadata": {},
   "source": [
    "## Tokenize, remove stop words and stem"
   ]
  },
  {
   "cell_type": "code",
   "execution_count": 20,
   "metadata": {},
   "outputs": [],
   "source": [
    "import nltk\n",
    "from nltk.stem.porter import *"
   ]
  },
  {
   "cell_type": "code",
   "execution_count": 21,
   "metadata": {},
   "outputs": [
    {
     "data": {
      "text/plain": [
       "imag copyright getti imag \n",
       " sunday morn donald trump went twitter tirad member parti \n",
       " exactli huge news far time presid turn rhetor cannon rank \n",
       " time attack particularli bite person essenti call tennesse senat bob corker chair power senat foreign relat committe coward run elect \n",
       " said Mr corker beg presid endors refus wrongli claim Mr corker support iranian nuclear agreement polit accomplish \n",
       " unlik colleagu Mr corker free have worri immedi polit futur hold tongu \n",
       " skip twitter post @senbobcork shame white hous adult day care center obvious miss shift morn senat bob corker @senbobcork octob 8 2017 report \n",
       " end spoke new york time let presid choic quot tennesse senat interview time particularli damn \n",
       " know presid tweet thing true know know \n",
       " sugarcoat Mr corker flat say presid liar know \n",
       " senat particular challeng Mr trump insist unsuccess plead endors accus broader \n",
       " Mr corker presid akin alli tennessean Mr trump short list vice presid secretari state \n",
       " imag copyright getti imag imag caption bob corker trump campaign ralli juli 2016 \n",
       " day seemingli like Mr corker go anytim soon run elect senat chair power committe januari 2019 \n",
       " presid margin success chamber razor thin democrat continu stand opposit afford lose vote 52 republican senat healthcar reform collaps juli bad news tax effort \n",
       " Mr corker go presid favour \n",
       " look peopl vast major caucu understand deal \n",
       " frustrat congress grow republican feel presid inabl focu advanc agenda get sharpli divid parti come plan repeal obamacar reform tax boost infrastructur spend challeng presid stir unrel controversi seemingli daili basi make thing harder \n",
       " presid gift abil shake neg stori quickli move differ subject work brilliantli presidenti campaign effect legisl slow grind \n",
       " imag copyright getti imag imag caption corker confirm hear secretari state rex tillerson \n",
       " month republican congress grumbl background occasion like Mr mcconnel lament presid understand senat work \n",
       " Mr corker state loud clear say agre kept silent hope pass conserv legisl presid sign fear Mr trump legion primari challeng year stay home gener elect \n",
       " calculu chang riskier stay silent speak Mr trump real troubl \n",
       " lot peopl think kind good cop bad cop act underway true \n",
       " time Mr trump appear undercut secretari state rex tillerson administr attempt use soft diplomaci deal rang intern crise \n",
       " war taliban afghanistan iran complianc multin nuclear agreement ongo disput qatar persian gulf neighbour unrest venezuela recent north korea continu ballist missil test target presid offhand remark twitter invect \n",
       " administr defend said Mr trump strategi updat version nixon era madman theori presid forc adversari way fear unpredict leader action \n",
       " Mr corker buy strategi say possibl chao hope Mr trump senior advis abl avoid \n",
       " know fact singl day white hous situat tri contain \n",
       " grow collect john kelli face palm photo serv testament chief staff report frustrat deal presid \n",
       " Mr trump goe script prais torch bear white nationalist ralli charlottesvil Mr kelli captur close eye rub arch nose attempt stave migrain \n",
       " imag copyright reuter imag caption white hous chief staff john kelli look presid donald trump speak campaign ralli \n",
       " presid call north korean leader crimin speech unit nation Mr kelli straight buri face hand \n",
       " white hous commun team left scrambl tri explain refram indel presidenti joke remark directli contradict offici administr line \n",
       " Mr kelli brought disciplin west wing staff presid march beat drum continu unfett access phone twitter app \n",
       " bob corker latest person politician journalist sport star celebr feel mercuri presid uncontain ire"
      ]
     },
     "execution_count": 21,
     "metadata": {},
     "output_type": "execute_result"
    }
   ],
   "source": [
    "stemmer = PorterStemmer()  \n",
    "\n",
    "counter = 0\n",
    "stem_words = []\n",
    "for token in words: \n",
    "    stem_words.append(stemmer.stem(token))\n",
    "    counter += 1\n",
    "    \n",
    "res_stem = str()\n",
    "for i in stem_words:\n",
    "    res_stem += \" \" + i\n",
    "    \n",
    "nlp(res_stem.strip())"
   ]
  },
  {
   "cell_type": "markdown",
   "metadata": {},
   "source": [
    "### Get PoS Tag"
   ]
  },
  {
   "cell_type": "code",
   "execution_count": 22,
   "metadata": {},
   "outputs": [],
   "source": [
    "postag_arr = np.zeros(0)\n",
    "for i in doc:\n",
    "    postag_arr = np.append(postag_arr, i.tag_)"
   ]
  },
  {
   "cell_type": "markdown",
   "metadata": {},
   "source": [
    "### Get Common Words"
   ]
  },
  {
   "cell_type": "code",
   "execution_count": 39,
   "metadata": {},
   "outputs": [
    {
     "name": "stdout",
     "output_type": "stream",
     "text": [
      "[('Mr', 21), ('president', 20), ('Corker', 14), ('Trump', 11), ('Image', 7)]\n"
     ]
    }
   ],
   "source": [
    "from collections import Counter\n",
    "\n",
    "word_freq = Counter(words)\n",
    "common_words = word_freq.most_common(5)\n",
    "print(common_words)"
   ]
  },
  {
   "cell_type": "markdown",
   "metadata": {},
   "source": [
    "### Get NER"
   ]
  },
  {
   "cell_type": "code",
   "execution_count": 233,
   "metadata": {},
   "outputs": [
    {
     "name": "stdout",
     "output_type": "stream",
     "text": [
      "NORP ['Republicans ', 'Democrats ']\n",
      "LOC ['Persian Gulf ']\n",
      "CARDINAL ['52 ']\n",
      "ORG ['Senate Foreign Relations Committee ', 'Obamacare ', 'White House ', 'Reuters Image ', 'Senate ', 'Taliban ', 'Times ', 'Skip ', 'Getty Images Image ', 'Mr Trump ', 'New York Times ', 'Congress ']\n",
      "PERSON ['Nixon ', 'United Nations Mr Kelly ', 'Tennessean Mr Trump ', 'Mr Kelly ', 'Bob Corker ', 'Image ', 'Corker ', 'Time Mr Trump ', 'John Kelly ', 'Donald Trump ', 'Mr McConnell ', 'Charlottesville Mr Kelly ', 'Getty Images Image ', 'Rex Tillerson ', 'Mr Corker ', 'Getty Images ', 'Mr Trump ']\n",
      "PRODUCT ['Mr Corker ']\n",
      "GPE ['Qatar ', 'Tennessee ', 'Twitter ', 'Iran ', 'West Wing ', 'Venezuela ', 'Afghanistan ', 'North Korea ']\n",
      "DATE ['January 2019 ', 'October 8 2017 ', 'year ', 'Sunday ', 'July 2016 day ', 'July ']\n",
      "TIME ['morning ']\n"
     ]
    }
   ],
   "source": [
    "labels = set([w.label_ for w in doc.ents]) \n",
    "for label in labels: \n",
    "    entities = [e.string for e in doc.ents if label==e.label_] \n",
    "    entities = list(set(entities)) \n",
    "    print(label,entities)"
   ]
  },
  {
   "cell_type": "markdown",
   "metadata": {},
   "source": [
    "## TF-IDF basic model"
   ]
  },
  {
   "cell_type": "markdown",
   "metadata": {},
   "source": [
    "tf-idf on the lemmatized text."
   ]
  },
  {
   "cell_type": "code",
   "execution_count": 175,
   "metadata": {},
   "outputs": [],
   "source": [
    "tfv = TfidfVectorizer(min_df=3,  max_features=None, \n",
    "            strip_accents='unicode', analyzer='word',token_pattern=r'\\w{1,}',\n",
    "            ngram_range=(1, 3), use_idf=1,smooth_idf=1,sublinear_tf=1,\n",
    "            stop_words = 'english')\n",
    "\n",
    "# Fitting TF-IDF to both training and test sets (semi-supervised learning)\n",
    "tfv.fit(list(x2_train))\n",
    "x2_train_tfv =  tfv.transform(x2_train) \n",
    "x2_val_tfv = tfv.transform(x2_val)"
   ]
  },
  {
   "cell_type": "code",
   "execution_count": 176,
   "metadata": {},
   "outputs": [
    {
     "data": {
      "text/plain": [
       "LogisticRegression(C=1.0, class_weight=None, dual=False, fit_intercept=True,\n",
       "          intercept_scaling=1, max_iter=100, multi_class='warn',\n",
       "          n_jobs=None, penalty='l2', random_state=None, solver='liblinear',\n",
       "          tol=0.0001, verbose=0, warm_start=False)"
      ]
     },
     "execution_count": 176,
     "metadata": {},
     "output_type": "execute_result"
    }
   ],
   "source": [
    "clf = LogisticRegression(C=1.0, solver = 'liblinear')\n",
    "clf.fit(x2_train_tfv, y2_train)"
   ]
  },
  {
   "cell_type": "code",
   "execution_count": 172,
   "metadata": {},
   "outputs": [],
   "source": [
    "x_val_tfv = tfv.transform(x_val)"
   ]
  },
  {
   "cell_type": "code",
   "execution_count": 177,
   "metadata": {},
   "outputs": [
    {
     "ename": "ValueError",
     "evalue": "X has 187212 features per sample; expecting 95156",
     "output_type": "error",
     "traceback": [
      "\u001b[1;31m---------------------------------------------------------------------------\u001b[0m",
      "\u001b[1;31mValueError\u001b[0m                                Traceback (most recent call last)",
      "\u001b[1;32m<ipython-input-177-cbb8ab68ae31>\u001b[0m in \u001b[0;36m<module>\u001b[1;34m\u001b[0m\n\u001b[1;32m----> 1\u001b[1;33m \u001b[0mclf\u001b[0m\u001b[1;33m.\u001b[0m\u001b[0mscore\u001b[0m\u001b[1;33m(\u001b[0m\u001b[0mx_val_tfv\u001b[0m\u001b[1;33m,\u001b[0m \u001b[0my_val\u001b[0m\u001b[1;33m)\u001b[0m\u001b[1;33m\u001b[0m\u001b[1;33m\u001b[0m\u001b[0m\n\u001b[0m",
      "\u001b[1;32m~\\Anaconda3\\lib\\site-packages\\sklearn\\base.py\u001b[0m in \u001b[0;36mscore\u001b[1;34m(self, X, y, sample_weight)\u001b[0m\n\u001b[0;32m    286\u001b[0m         \"\"\"\n\u001b[0;32m    287\u001b[0m         \u001b[1;32mfrom\u001b[0m \u001b[1;33m.\u001b[0m\u001b[0mmetrics\u001b[0m \u001b[1;32mimport\u001b[0m \u001b[0maccuracy_score\u001b[0m\u001b[1;33m\u001b[0m\u001b[1;33m\u001b[0m\u001b[0m\n\u001b[1;32m--> 288\u001b[1;33m         \u001b[1;32mreturn\u001b[0m \u001b[0maccuracy_score\u001b[0m\u001b[1;33m(\u001b[0m\u001b[0my\u001b[0m\u001b[1;33m,\u001b[0m \u001b[0mself\u001b[0m\u001b[1;33m.\u001b[0m\u001b[0mpredict\u001b[0m\u001b[1;33m(\u001b[0m\u001b[0mX\u001b[0m\u001b[1;33m)\u001b[0m\u001b[1;33m,\u001b[0m \u001b[0msample_weight\u001b[0m\u001b[1;33m=\u001b[0m\u001b[0msample_weight\u001b[0m\u001b[1;33m)\u001b[0m\u001b[1;33m\u001b[0m\u001b[1;33m\u001b[0m\u001b[0m\n\u001b[0m\u001b[0;32m    289\u001b[0m \u001b[1;33m\u001b[0m\u001b[0m\n\u001b[0;32m    290\u001b[0m \u001b[1;33m\u001b[0m\u001b[0m\n",
      "\u001b[1;32m~\\Anaconda3\\lib\\site-packages\\sklearn\\linear_model\\base.py\u001b[0m in \u001b[0;36mpredict\u001b[1;34m(self, X)\u001b[0m\n\u001b[0;32m    279\u001b[0m             \u001b[0mPredicted\u001b[0m \u001b[1;32mclass\u001b[0m \u001b[0mlabel\u001b[0m \u001b[0mper\u001b[0m \u001b[0msample\u001b[0m\u001b[1;33m.\u001b[0m\u001b[1;33m\u001b[0m\u001b[1;33m\u001b[0m\u001b[0m\n\u001b[0;32m    280\u001b[0m         \"\"\"\n\u001b[1;32m--> 281\u001b[1;33m         \u001b[0mscores\u001b[0m \u001b[1;33m=\u001b[0m \u001b[0mself\u001b[0m\u001b[1;33m.\u001b[0m\u001b[0mdecision_function\u001b[0m\u001b[1;33m(\u001b[0m\u001b[0mX\u001b[0m\u001b[1;33m)\u001b[0m\u001b[1;33m\u001b[0m\u001b[1;33m\u001b[0m\u001b[0m\n\u001b[0m\u001b[0;32m    282\u001b[0m         \u001b[1;32mif\u001b[0m \u001b[0mlen\u001b[0m\u001b[1;33m(\u001b[0m\u001b[0mscores\u001b[0m\u001b[1;33m.\u001b[0m\u001b[0mshape\u001b[0m\u001b[1;33m)\u001b[0m \u001b[1;33m==\u001b[0m \u001b[1;36m1\u001b[0m\u001b[1;33m:\u001b[0m\u001b[1;33m\u001b[0m\u001b[1;33m\u001b[0m\u001b[0m\n\u001b[0;32m    283\u001b[0m             \u001b[0mindices\u001b[0m \u001b[1;33m=\u001b[0m \u001b[1;33m(\u001b[0m\u001b[0mscores\u001b[0m \u001b[1;33m>\u001b[0m \u001b[1;36m0\u001b[0m\u001b[1;33m)\u001b[0m\u001b[1;33m.\u001b[0m\u001b[0mastype\u001b[0m\u001b[1;33m(\u001b[0m\u001b[0mnp\u001b[0m\u001b[1;33m.\u001b[0m\u001b[0mint\u001b[0m\u001b[1;33m)\u001b[0m\u001b[1;33m\u001b[0m\u001b[1;33m\u001b[0m\u001b[0m\n",
      "\u001b[1;32m~\\Anaconda3\\lib\\site-packages\\sklearn\\linear_model\\base.py\u001b[0m in \u001b[0;36mdecision_function\u001b[1;34m(self, X)\u001b[0m\n\u001b[0;32m    260\u001b[0m         \u001b[1;32mif\u001b[0m \u001b[0mX\u001b[0m\u001b[1;33m.\u001b[0m\u001b[0mshape\u001b[0m\u001b[1;33m[\u001b[0m\u001b[1;36m1\u001b[0m\u001b[1;33m]\u001b[0m \u001b[1;33m!=\u001b[0m \u001b[0mn_features\u001b[0m\u001b[1;33m:\u001b[0m\u001b[1;33m\u001b[0m\u001b[1;33m\u001b[0m\u001b[0m\n\u001b[0;32m    261\u001b[0m             raise ValueError(\"X has %d features per sample; expecting %d\"\n\u001b[1;32m--> 262\u001b[1;33m                              % (X.shape[1], n_features))\n\u001b[0m\u001b[0;32m    263\u001b[0m \u001b[1;33m\u001b[0m\u001b[0m\n\u001b[0;32m    264\u001b[0m         scores = safe_sparse_dot(X, self.coef_.T,\n",
      "\u001b[1;31mValueError\u001b[0m: X has 187212 features per sample; expecting 95156"
     ]
    }
   ],
   "source": [
    "clf.score(x2_val_tfv, y2_val)"
   ]
  },
  {
   "cell_type": "code",
   "execution_count": 170,
   "metadata": {},
   "outputs": [
    {
     "name": "stdout",
     "output_type": "stream",
     "text": [
      "Precision: 0.9444444444444444\n",
      "Recall: 0.9116719242902208\n"
     ]
    }
   ],
   "source": [
    "y2_pred = clf.predict(x2_val_tfv)\n",
    "\n",
    "print(\"Precision: \" + str(precision_score(y2_val, y2_pred)))\n",
    "print(\"Recall: \" + str(recall_score(y2_val, y2_pred)))"
   ]
  },
  {
   "cell_type": "code",
   "execution_count": null,
   "metadata": {},
   "outputs": [],
   "source": []
  },
  {
   "cell_type": "markdown",
   "metadata": {},
   "source": [
    "HAVEN'T TRY BELOW!!"
   ]
  },
  {
   "cell_type": "code",
   "execution_count": 236,
   "metadata": {},
   "outputs": [
    {
     "name": "stderr",
     "output_type": "stream",
     "text": [
      "paramiko missing, opening SSH/SCP/SFTP paths will be disabled.  `pip install paramiko` to suppress\n"
     ]
    }
   ],
   "source": [
    "from gensim.corpora import Dictionary\n",
    "from gensim.models.tfidfmodel import TfidfModel\n",
    "\n",
    "docs_dict = Dictionary(docs)\n",
    "docs_dict.filter_extremes(no_below=20, no_above=0.2)\n",
    "docs_dict.compactify()\n",
    "\n",
    "docs_corpus = [docs_dict.doc2bow(doc) for doc in docs]\n",
    "model_tfidf = TfidfModel(docs_corpus, id2word=docs_dict)\n",
    "docs_tfidf  = model_tfidf[docs_corpus]\n",
    "docs_vecs   = np.vstack([sparse2full(c, len(docs_dict)) for c in docs_tfidf])"
   ]
  }
 ],
 "metadata": {
  "kernelspec": {
   "display_name": "Python 3",
   "language": "python",
   "name": "python3"
  }
 },
 "nbformat": 4,
 "nbformat_minor": 2
}
