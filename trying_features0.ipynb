{
 "cells": [
  {
   "cell_type": "code",
   "execution_count": 2,
   "metadata": {},
   "outputs": [],
   "source": [
    "import spacy\n",
    "import re\n",
    "import numpy as np\n",
    "import pandas as pd\n",
    "\n",
    "nlp = spacy.load('en')"
   ]
  },
  {
   "cell_type": "code",
   "execution_count": 2,
   "metadata": {
    "scrolled": true
   },
   "outputs": [
    {
     "data": {
      "text/plain": [
       "<spacy.lang.en.English at 0x13c209f7668>"
      ]
     },
     "execution_count": 2,
     "metadata": {},
     "output_type": "execute_result"
    }
   ],
   "source": [
    "nlp"
   ]
  },
  {
   "cell_type": "code",
   "execution_count": 4,
   "metadata": {},
   "outputs": [],
   "source": [
    "data = pd.read_csv(\"kaggle.csv\")\n",
    "data = data.iloc[:,2:]\n",
    "ex = data.Body[0]\n",
    "ex = ex.replace(\"\\n\", \" \")"
   ]
  },
  {
   "cell_type": "code",
   "execution_count": 5,
   "metadata": {},
   "outputs": [
    {
     "data": {
      "text/plain": [
       "'Image copyright Getty Images On Sunday morning, Donald Trump went off on a Twitter tirade against a member of his own party. This, in itself, isn\\'t exactly huge news. It\\'s far from the first time the president has turned his rhetorical cannons on his own ranks. This time, however, his attacks were particularly biting and personal. He essentially called Tennessee Senator Bob Corker, the chair of the powerful Senate Foreign Relations Committee, a coward for not running for re-election. He said Mr Corker \"begged\" for the president\\'s endorsement, which he refused to give. He wrongly claimed that Mr Corker\\'s support of the Iranian nuclear agreement was his only political accomplishment. Unlike some of his colleagues, Mr Corker - free from having to worry about his immediate political future - didn\\'t hold his tongue. Skip Twitter post by @SenBobCorker It\\'s a shame the White House has become an adult day care center. Someone obviously missed their shift this morning. — Senator Bob Corker (@SenBobCorker) October 8, 2017 Report That wasn\\'t the end of it, though. He then spoke with the New York Times and really let the president have it. Here are four choice quotes from the Tennessee senator\\'s interview with the Times and why they are particularly damning. \"I don\\'t know why the president tweets out things that are not true. You know he does it, everyone knows he does it, but he does.\" You can\\'t really sugarcoat this one. Mr Corker is flat-out saying the president is a liar - and everyone knows it. The senator, in particular, is challenging Mr Trump\\'s insistence that he unsuccessfully pleaded for his endorsement, but the accusation is much broader. Mr Corker and the president used to be something akin to allies. The Tennessean was on Mr Trump\\'s short list for vice-president and secretary of state. Image copyright Getty Images Image caption Bob Corker at Trump campaign rally in July 2016 Those days are seemingly very much over now - and it\\'s not like Mr Corker is going anywhere anytime soon. Although he\\'s not running for re-election, he\\'ll be in the Senate, chairing a powerful committee, until January 2019. The president\\'s margin for success in that chamber is razor-thin. If Democrats can continue to stand together in opposition, he can afford to lose only two votes out of 52 Republican senators. That\\'s why healthcare reform collapsed in July - and it could be bad news for tax efforts. From here on out, Mr Corker isn\\'t going to do the president any favours. \"Look, except for a few people, the vast majority of our caucus understands what we\\'re dealing with here.\" Frustration in Congress has been growing over what Republicans feel has been the president\\'s inability to focus on advancing their agenda. Getting a sharply divided party to come together on plans to repeal Obamacare, reform taxes or boost infrastructure spending is challenging enough. Doing so when the president stirs up unrelated controversies on a seemingly daily basis makes things all the harder. One of the president\\'s gifts has been his ability to shake off negative stories by quickly moving on to a different subject. That worked brilliantly during his presidential campaign, but it\\'s less effective during the legislative slow grind. Image copyright Getty Images Image caption Corker at the confirmation hearing for Secretary of State Rex Tillerson For months, Republicans in Congress have been grumbling about this in the background and among themselves. Occasionally, someone like Mr McConnell will lament that the president doesn\\'t understand how the Senate works. Mr Corker has now stated it loud and clear. And, what\\'s more, he says almost everyone agrees with him. They\\'ve kept silent until now because they still hope to pass conservative legislation that the president can sign or fear Mr Trump\\'s legions will back a primary challenge next year or stay home during the general election. If that calculus ever changes - if it becomes riskier to stay silent than speak out - Mr Trump will be in real trouble. \"A lot of people think that there is some kind of \\'good cop, bad cop\\' act underway, but that\\'s just not true.\" Time and again, Mr Trump has appeared to undercut Secretary of State Rex Tillerson and others in his administration who are attempting to use soft diplomacy to deal with a range of international crises. The war against the Taliban in Afghanistan, Iran\\'s compliance with the multinational nuclear agreement, the ongoing dispute between Qatar and its Persian Gulf neighbours, the unrest in Venezuela and, most recently, North Korea\\'s continued ballistic missile tests have all been the target of the president\\'s offhand remarks and Twitter invective. Some administration defenders have said this is all a part of Mr Trump\\'s strategy - an updated version of the Nixon-era \"madman theory\", in which the president forces adversaries to give way because they fear an unpredictable US leader\\'s actions. Mr Corker isn\\'t buying it. There\\'s no strategy, he says, just the possibility of chaos - which he hopes Mr Trump\\'s senior advisers will be able to avoid. \"I know for a fact that every single day at the White House, it\\'s a situation of trying to contain him.\" There\\'s now a growing collection of John Kelly face-palm photos that serve as a testament to the chief-of-staff\\'s reported frustration at dealing with the president. Mr Trump goes off-script to praise torch-bearing white nationalists at a rally in Charlottesville, and Mr Kelly is captured closing his eyes and rubbing the arch of his nose, as if attempting to stave off a migraine. Image copyright Reuters Image caption White House Chief of Staff John Kelly looks on as US President Donald Trump speaks at a campaign rally The president calls North Korean leaders \"criminals\" in a speech to the United Nations, and Mr Kelly straight-up buries his face in his hands. The White House communications team is often left scrambling to try to explain or reframe an indelicate presidential \"joke\" or remark that directly contradicts what was until then the official administration line. Even though Mr Kelly has brought some discipline to the West Wing staff, the president still marches to the beat of his own drum - and continues to have unfettered access to his phone\\'s Twitter app. Bob Corker is only the latest person - politician, journalist, sports star or celebrity - to feel the mercurial president\\'s uncontainable ire.'"
      ]
     },
     "execution_count": 5,
     "metadata": {},
     "output_type": "execute_result"
    }
   ],
   "source": [
    "ex"
   ]
  },
  {
   "cell_type": "markdown",
   "metadata": {},
   "source": [
    "### Tokenize, remove stop words and lemmatize"
   ]
  },
  {
   "cell_type": "code",
   "execution_count": 14,
   "metadata": {},
   "outputs": [],
   "source": [
    "doc = nlp(ex)\n",
    "\n",
    "words =  [token.text for token in doc if token.is_stop != True and token.is_punct != True]\n",
    "\n",
    "import nltk\n",
    "from nltk.stem.porter import *  \n",
    "\n",
    "stemmer = PorterStemmer()  \n",
    "\n",
    "counter = 0\n",
    "for token in words: \n",
    "    words[counter] = stemmer.stem(token)\n",
    "    counter += 1\n",
    "    \n",
    "res = str()\n",
    "for i in words:\n",
    "    res += \" \" + i\n",
    "\n",
    "doc = nlp(res.strip())\n",
    "\n",
    "temp = str()\n",
    "for token in doc:\n",
    "    temp += \" \" + token.lemma_\n",
    "    \n",
    "doc = nlp(temp.strip())"
   ]
  },
  {
   "cell_type": "code",
   "execution_count": 15,
   "metadata": {},
   "outputs": [
    {
     "data": {
      "text/plain": [
       "london reuter flag fli comedi drama vietnam war veteran reson trump 's america despit period set actor bryan cranston say sunday screen london film festiv set unit state decemb 2003 u.s . forc iraq drag saddam hussein spider hole stori age serviceman reunit buri son kill action presid donald trump say total destroy north korea character dinner militari command calm storm cranston say flag fli time remind effect normal american ill advis militari campaign think lot relev today sen today 's clear cut far intent govern militari cranston acclaim lead role tv drama break bad tell reuter world war good war clear present danger stop mad man vietnam iraq lot question troop citizen right thing purpos cast member bryan cranston r director richard linklat pose festiv director clair stewart arriv premier flag fli british film institut bfi london film festiv odeon leicest squar london britain octob 8 2017 reuter afolabi sotund flag fli produc amazon studio direct co write richard linklat great critic acclaim naturalist sunset trilog 2014 boyhood win slew oscar nomin linklat comedi includ school rock everybodi want skirt chase undergradu flag fli fall genr cast member bryan cranston r pose director richard linklat arriv premier flag fli british film institut bfi london film festiv odeon leicest squar london britain octob 8 2017 reuter afolabi sotund drama comedi stem chemistri lead play big hollywood steve carel awkward shi assum quiet withdrawn loss son cranston play foul mouth hard drink bar owner good custom laurenc fishburn man find god evangel preacher prefer forget sex drug indulg nam vaniti fair 's richard lawson say film 's abil honor footsoldi critic war send fight hit academi sweet spot satisfi conserv oldster young leftier type critic say flag fli lack light touch linklat 's good work guardian 's benjamin lee call half bake tv movi masquerad oscarbait curiou misstep oscar nomin indi auteur write robin pomeroy edit david evan"
      ]
     },
     "execution_count": 15,
     "metadata": {},
     "output_type": "execute_result"
    }
   ],
   "source": [
    "doc"
   ]
  },
  {
   "cell_type": "markdown",
   "metadata": {},
   "source": [
    "### Get PoS Tag"
   ]
  },
  {
   "cell_type": "code",
   "execution_count": 16,
   "metadata": {},
   "outputs": [],
   "source": [
    "postag_arr = np.zeros(0)\n",
    "for i in doc:\n",
    "    postag_arr = np.append(postag_arr, i.tag_)"
   ]
  },
  {
   "cell_type": "markdown",
   "metadata": {},
   "source": [
    "### Get Common Words"
   ]
  },
  {
   "cell_type": "code",
   "execution_count": 17,
   "metadata": {},
   "outputs": [
    {
     "name": "stdout",
     "output_type": "stream",
     "text": [
      "[('flag', 7), ('fli', 7), ('london', 6), ('’s', 6), ('cranston', 6)]\n"
     ]
    }
   ],
   "source": [
    "from collections import Counter\n",
    "\n",
    "word_freq = Counter(words)\n",
    "common_words = word_freq.most_common(5)\n",
    "print(common_words)"
   ]
  },
  {
   "cell_type": "markdown",
   "metadata": {},
   "source": [
    "### Get NER"
   ]
  },
  {
   "cell_type": "code",
   "execution_count": 18,
   "metadata": {},
   "outputs": [
    {
     "name": "stdout",
     "output_type": "stream",
     "text": [
      "CARDINAL ['2014 ', 'half ', '8 2017 ']\n",
      "DATE ['sunday ', '2003 ', 'today ']\n"
     ]
    }
   ],
   "source": [
    "labels = set([w.label_ for w in doc.ents]) \n",
    "for label in labels: \n",
    "    entities = [e.string for e in doc.ents if label==e.label_] \n",
    "    entities = list(set(entities)) \n",
    "    print(label,entities)"
   ]
  },
  {
   "cell_type": "markdown",
   "metadata": {},
   "source": [
    "HAVEN'T TRY BELOW!!"
   ]
  },
  {
   "cell_type": "code",
   "execution_count": 19,
   "metadata": {},
   "outputs": [
    {
     "ename": "ModuleNotFoundError",
     "evalue": "No module named 'gensim'",
     "output_type": "error",
     "traceback": [
      "\u001b[1;31m---------------------------------------------------------------------------\u001b[0m",
      "\u001b[1;31mModuleNotFoundError\u001b[0m                       Traceback (most recent call last)",
      "\u001b[1;32m<ipython-input-19-3565b13a9376>\u001b[0m in \u001b[0;36m<module>\u001b[1;34m()\u001b[0m\n\u001b[1;32m----> 1\u001b[1;33m \u001b[1;32mfrom\u001b[0m \u001b[0mgensim\u001b[0m\u001b[1;33m.\u001b[0m\u001b[0mcorpora\u001b[0m \u001b[1;32mimport\u001b[0m \u001b[0mDictionary\u001b[0m\u001b[1;33m\u001b[0m\u001b[0m\n\u001b[0m\u001b[0;32m      2\u001b[0m \u001b[1;32mfrom\u001b[0m \u001b[0mgensim\u001b[0m\u001b[1;33m.\u001b[0m\u001b[0mmodels\u001b[0m\u001b[1;33m.\u001b[0m\u001b[0mtfidfmodel\u001b[0m \u001b[1;32mimport\u001b[0m \u001b[0mTfidfModel\u001b[0m\u001b[1;33m\u001b[0m\u001b[0m\n\u001b[0;32m      3\u001b[0m \u001b[1;33m\u001b[0m\u001b[0m\n\u001b[0;32m      4\u001b[0m \u001b[0mdocs_dict\u001b[0m \u001b[1;33m=\u001b[0m \u001b[0mDictionary\u001b[0m\u001b[1;33m(\u001b[0m\u001b[0mdocs\u001b[0m\u001b[1;33m)\u001b[0m\u001b[1;33m\u001b[0m\u001b[0m\n\u001b[0;32m      5\u001b[0m \u001b[0mdocs_dict\u001b[0m\u001b[1;33m.\u001b[0m\u001b[0mfilter_extremes\u001b[0m\u001b[1;33m(\u001b[0m\u001b[0mno_below\u001b[0m\u001b[1;33m=\u001b[0m\u001b[1;36m20\u001b[0m\u001b[1;33m,\u001b[0m \u001b[0mno_above\u001b[0m\u001b[1;33m=\u001b[0m\u001b[1;36m0.2\u001b[0m\u001b[1;33m)\u001b[0m\u001b[1;33m\u001b[0m\u001b[0m\n",
      "\u001b[1;31mModuleNotFoundError\u001b[0m: No module named 'gensim'"
     ]
    }
   ],
   "source": [
    "from gensim.corpora import Dictionary\n",
    "from gensim.models.tfidfmodel import TfidfModel\n",
    "\n",
    "docs_dict = Dictionary(docs)\n",
    "docs_dict.filter_extremes(no_below=20, no_above=0.2)\n",
    "docs_dict.compactify()\n",
    "\n",
    "docs_corpus = [docs_dict.doc2bow(doc) for doc in docs]\n",
    "model_tfidf = TfidfModel(docs_corpus, id2word=docs_dict)\n",
    "docs_tfidf  = model_tfidf[docs_corpus]\n",
    "docs_vecs   = np.vstack([sparse2full(c, len(docs_dict)) for c in docs_tfidf])"
   ]
  },
  {
   "cell_type": "code",
   "execution_count": 20,
   "metadata": {},
   "outputs": [
    {
     "data": {
      "text/plain": [
       "array(['JJ', 'NN', 'NN', 'JJ', 'NN', 'NN', 'NN', 'NN', 'NN', 'NN', 'NN',\n",
       "       'POS', 'NN', 'NN', 'NN', 'VBN', 'NN', 'NN', 'NN', 'NN', 'NN', 'NN',\n",
       "       'JJ', 'NN', 'NN', 'VBD', 'NN', 'NN', 'NN', 'CD', 'NNP', '.', 'VBZ',\n",
       "       'JJ', 'VBP', 'JJ', 'NN', 'NN', 'NN', 'NNS', 'NN', 'NN', 'NN', 'NN',\n",
       "       'NN', 'NN', 'NN', 'NN', 'NN', 'NN', 'VBP', 'JJ', 'JJ', 'NN', 'NN',\n",
       "       'NN', 'NN', 'JJ', 'NN', 'JJ', 'NN', 'NN', 'VBP', 'NN', 'JJ', 'NN',\n",
       "       'NN', 'NN', 'JJ', 'JJ', 'JJ', 'JJ', 'JJ', 'NN', 'NN', 'NN', 'NNS',\n",
       "       'NN', 'VBD', 'NN', 'POS', 'JJ', 'VBN', 'JJ', 'JJ', 'VBP', 'JJ',\n",
       "       'NN', 'NN', 'NN', 'NN', 'NN', 'NN', 'VB', 'JJ', 'NN', 'NN', 'NN',\n",
       "       'NN', 'JJ', 'NN', 'JJ', 'JJ', 'NN', 'VB', 'JJ', 'NN', 'VB', 'JJ',\n",
       "       'NN', 'NN', 'NN', 'NN', 'JJ', 'NN', 'NN', 'NN', 'NN', 'NN', 'NN',\n",
       "       'NN', 'NN', 'NN', 'NN', 'NN', 'NN', 'NN', 'NN', 'NN', 'JJ', 'NN',\n",
       "       'NN', 'JJ', 'JJ', 'NN', 'NN', 'NN', 'JJ', 'NN', 'NN', 'NN', 'NN',\n",
       "       'NN', 'NN', 'NN', 'VBZ', 'CD', 'CD', 'NN', 'NN', 'NN', 'NN', 'JJ',\n",
       "       'NN', 'NN', 'NN', 'JJ', 'NN', 'VBP', 'NN', 'VBZ', 'JJ', 'JJ', 'NN',\n",
       "       'NN', 'NN', 'IN', 'CD', 'NN', 'NN', 'VBD', 'JJ', 'NN', 'NN', 'NN',\n",
       "       'NN', 'NN', 'NN', 'NN', 'VBP', 'NN', 'NN', 'NN', 'NN', 'NN', 'NN',\n",
       "       'NN', 'NN', 'NN', 'NN', 'NN', 'NN', 'NN', 'NN', 'NN', 'NN', 'JJ',\n",
       "       'NN', 'NN', 'JJ', 'JJ', 'NN', 'NN', 'NN', 'JJ', 'NN', 'NN', 'NN',\n",
       "       'NN', 'NN', 'NN', 'NN', 'VBZ', 'CD', 'CD', 'NN', 'NN', 'NN', 'NN',\n",
       "       'NN', 'NN', 'NNS', 'NN', 'VB', 'JJ', 'NN', 'NN', 'NN', 'JJ', 'NN',\n",
       "       'NN', 'JJ', 'NN', 'NN', 'NN', 'NN', 'NN', 'JJ', 'NN', 'JJ', 'NN',\n",
       "       'NN', 'NN', 'JJ', 'NN', 'VBZ', 'NN', 'NN', 'VB', 'NN', 'NN', 'NN',\n",
       "       'VBP', 'JJ', 'NN', 'NN', 'VBN', 'NN', 'NN', 'JJ', 'POS', 'NN',\n",
       "       'NN', 'VBP', 'NN', 'POS', 'NN', 'NN', 'NN', 'JJ', 'NN', 'VBP',\n",
       "       'NN', 'VBD', 'RB', 'JJ', 'NN', 'NN', 'NNS', 'JJ', 'JJ', 'NN', 'NN',\n",
       "       'NN', 'VBP', 'NN', 'JJ', 'NN', 'JJ', 'NN', 'NN', 'POS', 'JJ', 'NN',\n",
       "       'NN', 'POS', 'NN', 'NN', 'VBP', 'JJ', 'NN', 'NN', 'NNS', 'VBP',\n",
       "       'VB', 'JJ', 'NN', 'NN', 'NN', 'JJ', 'NN', 'NN', 'NN', 'NN', 'NN',\n",
       "       'NN', 'VB'], dtype='<U32')"
      ]
     },
     "execution_count": 20,
     "metadata": {},
     "output_type": "execute_result"
    }
   ],
   "source": [
    "postag_arr"
   ]
  },
  {
   "cell_type": "code",
   "execution_count": 22,
   "metadata": {},
   "outputs": [],
   "source": [
    "def NN_percent(x):\n",
    "    return sum([k == \"NN\" for k in x])/ len(x)"
   ]
  },
  {
   "cell_type": "code",
   "execution_count": 23,
   "metadata": {},
   "outputs": [
    {
     "data": {
      "text/plain": [
       "0.6561514195583596"
      ]
     },
     "execution_count": 23,
     "metadata": {},
     "output_type": "execute_result"
    }
   ],
   "source": [
    "def NN_percent(x):\n",
    "    return sum([k == \"NN\" for k in x])"
   ]
  }
 ],
 "metadata": {
  "kernelspec": {
   "display_name": "Python 3",
   "language": "python",
   "name": "python3"
  },
  "language_info": {
   "codemirror_mode": {
    "name": "ipython",
    "version": 3
   },
   "file_extension": ".py",
   "mimetype": "text/x-python",
   "name": "python",
   "nbconvert_exporter": "python",
   "pygments_lexer": "ipython3",
   "version": "3.6.4"
  }
 },
 "nbformat": 4,
 "nbformat_minor": 2
}
