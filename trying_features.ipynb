{
 "cells": [
  {
   "cell_type": "code",
   "execution_count": 225,
   "metadata": {},
   "outputs": [],
   "source": [
    "import spacy\n",
    "import re\n",
    "import numpy as np\n",
    "import pandas as pd\n",
    "\n",
    "nlp = spacy.load('en_core_web_sm')"
   ]
  },
  {
   "cell_type": "code",
   "execution_count": 226,
   "metadata": {
    "scrolled": true
   },
   "outputs": [
    {
     "data": {
      "text/plain": [
       "<spacy.lang.en.English at 0x1a5cecef390>"
      ]
     },
     "execution_count": 226,
     "metadata": {},
     "output_type": "execute_result"
    }
   ],
   "source": [
    "nlp"
   ]
  },
  {
   "cell_type": "code",
   "execution_count": 227,
   "metadata": {},
   "outputs": [],
   "source": [
    "data = pd.read_csv(\"kaggle.csv\")\n",
    "data = data.iloc[:,2:]\n",
    "ex = data.Body[0]\n",
    "ex = ex.replace(\"\\n\", \" \")"
   ]
  },
  {
   "cell_type": "markdown",
   "metadata": {},
   "source": [
    "### Tokenize, remove stop words and lemmatize"
   ]
  },
  {
   "cell_type": "code",
   "execution_count": 258,
   "metadata": {},
   "outputs": [],
   "source": [
    "doc = nlp(ex)\n",
    "\n",
    "words =  [token.text for token in doc if token.is_stop != True and token.is_punct != True]\n",
    "\n",
    "import nltk\n",
    "from nltk.stem.porter import *  \n",
    "\n",
    "stemmer = PorterStemmer()  \n",
    "\n",
    "counter = 0\n",
    "for token in words: \n",
    "    words[counter] = stemmer.stem(token)\n",
    "    counter += 1\n",
    "    \n",
    "res = str()\n",
    "for i in words:\n",
    "    res += \" \" + i\n",
    "\n",
    "doc = nlp(res.strip())\n",
    "\n",
    "temp = str()\n",
    "for token in doc:\n",
    "    temp += \" \" + token.lemma_\n",
    "    \n",
    "doc = nlp(temp.strip())"
   ]
  },
  {
   "cell_type": "code",
   "execution_count": 259,
   "metadata": {},
   "outputs": [
    {
     "data": {
      "text/plain": [
       "imag copyright getti imag sunday morn donald trump go twitt tirad member parti exactli huge news far time presid turn rhetor cannon rank time attack particularli bite person essenti call tennesse senat bob corker chair power senat foreign relat committe coward run elect say Mr corker beg presid endor refu wrongli claim Mr corker support iranian nuclear agreement polit accomplish unlik colleagu Mr corker free have worri immedi polit futur hold tongu skip twitt post @senbobcork shame white hous adult day care center obvious miss shift morn senat bob corker @senbobcork octob 8 2017 report end speak new york time let presid choic quot tennesse senat interview time particularli damn know presid tweet thing true know know sugarcoat Mr corker flat say presid liar know senat particular challeng Mr trump insist unsuccess plead endor accus broad Mr corker presid akin alli tennessean Mr trump short list vice presid secretari state imag copyright getti imag imag caption bob corker trump campaign ralli juli 2016 day seemingli like Mr corker go anytim soon run elect senat chair power committe januari 2019 presid margin success chamber razor thin democrat continu stand opposit afford lose vote 52 republican senat healthcar reform collap juli bad news tax effort Mr corker go presid favour look peopl vast major caucu understand deal frustrat congress grow republican feel presid inabl focu advanc agenda get sharpli divid parti come plan repeal obamacar reform tax boost infrastructur spend challeng presid stir unrel controversi seemingli daili basi make thing hard presid gift abil shake neg stori quickli move differ subject work brilliantli presidenti campaign effect legisl slow grind imag copyright getti imag imag caption corker confirm hear secretari state rex tillerson month republican congress grumbl background occasion like Mr mcconnel lament presid understand senat work Mr corker state loud clear say agre keep silent hope pass conserv legisl presid sign fear Mr trump legion primari challeng year stay home gener elect calculu chang risky stay silent speak Mr trump real troubl lot peopl think kind good cop bad cop act underway true time Mr trump appear undercut secretari state rex tillerson administr attempt use soft diplomaci deal ring intern crise war taliban afghanistan iran complianc multin nuclear agreement ongo disput qatar persian gulf neighbour unrest venezuela recent north korea continu ballist missil test target presid offhand remark twitter invect administr defend say Mr trump strategi updat version nixon era madman theori presid forc adversari way fear unpredict leader action Mr corker buy strategi say possibl chao hope Mr trump senior advis abl avoid know fact singl day white hous situat tri contain grow collect john kelli face palm photo serv testament chief staff report frustrat deal presid Mr trump goe script prais torch bear white nationalist ralli charlottesvil Mr kelli captur close eye rub arch nose attempt stave migrain imag copyright reuter imag caption white hous chief staff john kelli look presid donald trump speak campaign ralli presid call north korean leader crimin speech unit nation Mr kelli straight buri face hand white hous commun team leave scrambl tri explain refram indel presidenti joke remark directli contradict offici administr line Mr kelli bring disciplin west wing staff presid march beat drum continu unfett access phone twitt app bob corker late person politician journalist sport star celebr feel mercuri presid uncontain ire"
      ]
     },
     "execution_count": 259,
     "metadata": {},
     "output_type": "execute_result"
    }
   ],
   "source": [
    "doc"
   ]
  },
  {
   "cell_type": "markdown",
   "metadata": {},
   "source": [
    "### Get PoS Tag"
   ]
  },
  {
   "cell_type": "code",
   "execution_count": 229,
   "metadata": {},
   "outputs": [],
   "source": [
    "postag_arr = np.zeros(0)\n",
    "for i in doc:\n",
    "    postag_arr = np.append(postag_arr, i.tag_)"
   ]
  },
  {
   "cell_type": "markdown",
   "metadata": {},
   "source": [
    "### Get Common Words"
   ]
  },
  {
   "cell_type": "code",
   "execution_count": 231,
   "metadata": {},
   "outputs": [
    {
     "name": "stdout",
     "output_type": "stream",
     "text": [
      "[('Mr', 21), ('president', 20), ('Corker', 14), ('Trump', 11), ('Image', 7)]\n"
     ]
    }
   ],
   "source": [
    "from collections import Counter\n",
    "\n",
    "word_freq = Counter(words)\n",
    "common_words = word_freq.most_common(5)\n",
    "print(common_words)"
   ]
  },
  {
   "cell_type": "markdown",
   "metadata": {},
   "source": [
    "### Get NER"
   ]
  },
  {
   "cell_type": "code",
   "execution_count": 233,
   "metadata": {},
   "outputs": [
    {
     "name": "stdout",
     "output_type": "stream",
     "text": [
      "NORP ['Republicans ', 'Democrats ']\n",
      "LOC ['Persian Gulf ']\n",
      "CARDINAL ['52 ']\n",
      "ORG ['Senate Foreign Relations Committee ', 'Obamacare ', 'White House ', 'Reuters Image ', 'Senate ', 'Taliban ', 'Times ', 'Skip ', 'Getty Images Image ', 'Mr Trump ', 'New York Times ', 'Congress ']\n",
      "PERSON ['Nixon ', 'United Nations Mr Kelly ', 'Tennessean Mr Trump ', 'Mr Kelly ', 'Bob Corker ', 'Image ', 'Corker ', 'Time Mr Trump ', 'John Kelly ', 'Donald Trump ', 'Mr McConnell ', 'Charlottesville Mr Kelly ', 'Getty Images Image ', 'Rex Tillerson ', 'Mr Corker ', 'Getty Images ', 'Mr Trump ']\n",
      "PRODUCT ['Mr Corker ']\n",
      "GPE ['Qatar ', 'Tennessee ', 'Twitter ', 'Iran ', 'West Wing ', 'Venezuela ', 'Afghanistan ', 'North Korea ']\n",
      "DATE ['January 2019 ', 'October 8 2017 ', 'year ', 'Sunday ', 'July 2016 day ', 'July ']\n",
      "TIME ['morning ']\n"
     ]
    }
   ],
   "source": [
    "labels = set([w.label_ for w in doc.ents]) \n",
    "for label in labels: \n",
    "    entities = [e.string for e in doc.ents if label==e.label_] \n",
    "    entities = list(set(entities)) \n",
    "    print(label,entities)"
   ]
  },
  {
   "cell_type": "markdown",
   "metadata": {},
   "source": [
    "HAVEN'T TRY BELOW!!"
   ]
  },
  {
   "cell_type": "code",
   "execution_count": 236,
   "metadata": {},
   "outputs": [
    {
     "name": "stderr",
     "output_type": "stream",
     "text": [
      "paramiko missing, opening SSH/SCP/SFTP paths will be disabled.  `pip install paramiko` to suppress\n"
     ]
    }
   ],
   "source": [
    "from gensim.corpora import Dictionary\n",
    "from gensim.models.tfidfmodel import TfidfModel\n",
    "\n",
    "docs_dict = Dictionary(docs)\n",
    "docs_dict.filter_extremes(no_below=20, no_above=0.2)\n",
    "docs_dict.compactify()\n",
    "\n",
    "docs_corpus = [docs_dict.doc2bow(doc) for doc in docs]\n",
    "model_tfidf = TfidfModel(docs_corpus, id2word=docs_dict)\n",
    "docs_tfidf  = model_tfidf[docs_corpus]\n",
    "docs_vecs   = np.vstack([sparse2full(c, len(docs_dict)) for c in docs_tfidf])"
   ]
  }
 ],
 "metadata": {
  "kernelspec": {
   "display_name": "Python 3",
   "language": "python",
   "name": "python3"
  },
  "language_info": {
   "codemirror_mode": {
    "name": "ipython",
    "version": 3
   },
   "file_extension": ".py",
   "mimetype": "text/x-python",
   "name": "python",
   "nbconvert_exporter": "python",
   "pygments_lexer": "ipython3",
   "version": "3.7.2"
  }
 },
 "nbformat": 4,
 "nbformat_minor": 2
}
